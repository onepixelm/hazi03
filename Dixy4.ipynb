{
  "nbformat": 4,
  "nbformat_minor": 0,
  "metadata": {
    "colab": {
      "name": "Dixy4.ipynb",
      "version": "0.3.2",
      "provenance": [],
      "collapsed_sections": [],
      "include_colab_link": true
    }
  },
  "cells": [
    {
      "cell_type": "markdown",
      "metadata": {
        "id": "view-in-github",
        "colab_type": "text"
      },
      "source": [
        "[View in Colaboratory](https://colab.research.google.com/github/onepixelm/hazi03/blob/master/Dixy4.ipynb)"
      ]
    },
    {
      "metadata": {
        "id": "Rgxhpq5jaTLg",
        "colab_type": "code",
        "colab": {
          "base_uri": "https://localhost:8080/",
          "height": 34
        },
        "outputId": "34f54e3d-fad6-49c1-d620-36928134e757"
      },
      "cell_type": "code",
      "source": [
        "import numpy as np\n",
        "import matplotlib.pyplot as plt\n",
        "\n",
        "%matplotlib inline\n",
        "\n",
        "from keras.models import Sequential\n",
        "from keras.layers.core import Dense\n",
        "from keras.optimizers import SGD"
      ],
      "execution_count": 1,
      "outputs": [
        {
          "output_type": "stream",
          "text": [
            "Using TensorFlow backend.\n"
          ],
          "name": "stderr"
        }
      ]
    },
    {
      "metadata": {
        "id": "_zVGArFzafIg",
        "colab_type": "code",
        "colab": {}
      },
      "cell_type": "code",
      "source": [
        "def diff_true_pred(y_true, y_pred):\n",
        "  return abs(y_true - y_pred)\n",
        "\n",
        "model = Sequential()\n",
        "model.add(Dense(50, activation='relu', input_shape=(100,)))\n",
        "model.add(Dense(50, activation='relu'))\n",
        "model.add(Dense(1, activation='linear'))\n",
        "\n",
        "model.compile(loss='mean_squared_error', optimizer=SGD(lr=0.001), metrics=[diff_true_pred])"
      ],
      "execution_count": 0,
      "outputs": []
    },
    {
      "metadata": {
        "id": "2sTg-fi3bjMu",
        "colab_type": "code",
        "colab": {
          "resources": {
            "http://localhost:8080/nbextensions/google.colab/files.js": {
              "data": "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",
              "ok": true,
              "headers": [
                [
                  "content-type",
                  "application/javascript"
                ]
              ],
              "status": 200,
              "status_text": "OK"
            }
          },
          "base_uri": "https://localhost:8080/",
          "height": 81
        },
        "outputId": "cf81a753-4a96-43c4-a5fc-cdabd7b2a174"
      },
      "cell_type": "code",
      "source": [
        "from google.colab import files\n",
        "\n",
        "uploaded = files.upload()\n",
        "file  = open(\"BP_d.txt\", 'r')  \n",
        "head = file.readlines()[1:] \n",
        "file.close()\n"
      ],
      "execution_count": 3,
      "outputs": [
        {
          "output_type": "display_data",
          "data": {
            "text/plain": [
              "<IPython.core.display.HTML object>"
            ],
            "text/html": [
              "\n",
              "     <input type=\"file\" id=\"files-f81b9ad8-fcd6-4b55-93bb-559dfff2ee7f\" name=\"files[]\" multiple disabled />\n",
              "     <output id=\"result-f81b9ad8-fcd6-4b55-93bb-559dfff2ee7f\">\n",
              "      Upload widget is only available when the cell has been executed in the\n",
              "      current browser session. Please rerun this cell to enable.\n",
              "      </output>\n",
              "      <script src=\"/nbextensions/google.colab/files.js\"></script> "
            ]
          },
          "metadata": {
            "tags": []
          }
        },
        {
          "output_type": "stream",
          "text": [
            "Saving BP_d.txt to BP_d.txt\n"
          ],
          "name": "stdout"
        }
      ]
    },
    {
      "metadata": {
        "id": "YLDtUPtM5kJz",
        "colab_type": "code",
        "colab": {
          "base_uri": "https://localhost:8080/",
          "height": 364
        },
        "outputId": "1e4c92e3-d48f-4cdf-faf2-ef2d56dd542d"
      },
      "cell_type": "code",
      "source": [
        "head2 = [ float(s.split(';')[1]) for s in head ]\n",
        "print(len(head2))\n",
        "\n",
        "min_temp = head2[0]\n",
        "max_temp = head2[0]\n",
        "for t in head2:\n",
        "  if t < min_temp:\n",
        "    min_temp = t\n",
        "  if t > max_temp:\n",
        "    max_temp = t\n",
        "print(\"Min temp: {} Max temp: {}\".format(min_temp,max_temp))\n",
        "X_pred = (np.asarray([head2[-100:]]) - min_temp)/(max_temp - min_temp)\n",
        "print(X_pred)\n",
        "print(X_pred.shape)\n",
        "head2 = [ head2[i*101:(i+1)*101] for i in range(len(head2)/101) ]\n",
        "Y_temp = [ l[-1:] for l in head2 ]\n",
        "#print(Y_temp)\n",
        "X_temp = [ l[:-1] for l in head2 ]\n",
        "#print(X_temp)"
      ],
      "execution_count": 77,
      "outputs": [
        {
          "output_type": "stream",
          "text": [
            "40177\n",
            "Min temp: -20.6 Max temp: 33.1\n",
            "[[0.68156425 0.7113594  0.7132216  0.6443203  0.6405959  0.63873371\n",
            "  0.61080074 0.5698324  0.57728119 0.60893855 0.61266294 0.60148976\n",
            "  0.5716946  0.61080074 0.60893855 0.5698324  0.55307263 0.5735568\n",
            "  0.57914339 0.57541899 0.5679702  0.5679702  0.56424581 0.58845438\n",
            "  0.57914339 0.56238361 0.56052142 0.55307263 0.52513966 0.53258845\n",
            "  0.53631285 0.58286778 0.58472998 0.4972067  0.48230912 0.48417132\n",
            "  0.4990689  0.50651769 0.52886406 0.54934823 0.57728119 0.59404097\n",
            "  0.63873371 0.65363128 0.6443203  0.60893855 0.60893855 0.60521415\n",
            "  0.59031657 0.55493482 0.58472998 0.62383613 0.63687151 0.65735568\n",
            "  0.62011173 0.63500931 0.59404097 0.5735568  0.54748603 0.54376164\n",
            "  0.56238361 0.51396648 0.47858473 0.48230912 0.4320298  0.40968343\n",
            "  0.40037244 0.43389199 0.39106145 0.37057728 0.41154562 0.39292365\n",
            "  0.3556797  0.34636872 0.45437616 0.54003724 0.54376164 0.46368715\n",
            "  0.37802607 0.36685289 0.44320298 0.37243948 0.30540037 0.33519553\n",
            "  0.30726257 0.25512104 0.27001862 0.26256983 0.34078212 0.36499069\n",
            "  0.43575419 0.48975791 0.54562384 0.4264432  0.31843575 0.29050279\n",
            "  0.29050279 0.26070764 0.24581006 0.27560521]]\n",
            "(1, 100)\n"
          ],
          "name": "stdout"
        }
      ]
    },
    {
      "metadata": {
        "id": "rStVSUla_5_K",
        "colab_type": "code",
        "colab": {
          "base_uri": "https://localhost:8080/",
          "height": 86
        },
        "outputId": "d0e5262b-08e8-4fd6-f865-ead6e0d7cd9f"
      },
      "cell_type": "code",
      "source": [
        "import numpy as np\n",
        "X_train = (np.asarray(X_temp[0:390]) - min_temp)/(max_temp - min_temp)\n",
        "Y_train = (np.asarray(Y_temp[0:390]) - min_temp)/(max_temp - min_temp)\n",
        "X_test = (np.asarray(X_temp[390:]) - min_temp)/(max_temp - min_temp)\n",
        "Y_test = (np.asarray(Y_temp[390:]) - min_temp)/(max_temp - min_temp)\n",
        "\n",
        "print(X_train.shape)\n",
        "print(X_test.shape)\n",
        "print(Y_train.shape)\n",
        "print(Y_test.shape)"
      ],
      "execution_count": 78,
      "outputs": [
        {
          "output_type": "stream",
          "text": [
            "(390, 100)\n",
            "(7, 100)\n",
            "(390, 1)\n",
            "(7, 1)\n"
          ],
          "name": "stdout"
        }
      ]
    },
    {
      "metadata": {
        "id": "FuqkSNU24a_f",
        "colab_type": "code",
        "colab": {
          "base_uri": "https://localhost:8080/",
          "height": 6981
        },
        "outputId": "9d3da258-2ff7-4aac-b0e5-04a7c392bf52"
      },
      "cell_type": "code",
      "source": [
        "network_history = model.fit(X_train, Y_train, batch_size=60, epochs=200, verbose=1, validation_split=0.2)"
      ],
      "execution_count": 36,
      "outputs": [
        {
          "output_type": "stream",
          "text": [
            "Train on 312 samples, validate on 78 samples\n",
            "Epoch 1/200\n",
            "312/312 [==============================] - 0s 64us/step - loss: 0.0085 - diff_true_pred: 0.0732 - val_loss: 0.0073 - val_diff_true_pred: 0.0719\n",
            "Epoch 2/200\n",
            "312/312 [==============================] - 0s 54us/step - loss: 0.0085 - diff_true_pred: 0.0731 - val_loss: 0.0072 - val_diff_true_pred: 0.0717\n",
            "Epoch 3/200\n",
            "312/312 [==============================] - 0s 58us/step - loss: 0.0085 - diff_true_pred: 0.0730 - val_loss: 0.0072 - val_diff_true_pred: 0.0716\n",
            "Epoch 4/200\n",
            "312/312 [==============================] - 0s 55us/step - loss: 0.0085 - diff_true_pred: 0.0731 - val_loss: 0.0072 - val_diff_true_pred: 0.0715\n",
            "Epoch 5/200\n",
            "312/312 [==============================] - 0s 70us/step - loss: 0.0085 - diff_true_pred: 0.0730 - val_loss: 0.0072 - val_diff_true_pred: 0.0714\n",
            "Epoch 6/200\n",
            "312/312 [==============================] - 0s 50us/step - loss: 0.0085 - diff_true_pred: 0.0730 - val_loss: 0.0072 - val_diff_true_pred: 0.0713\n",
            "Epoch 7/200\n",
            "312/312 [==============================] - 0s 52us/step - loss: 0.0085 - diff_true_pred: 0.0730 - val_loss: 0.0072 - val_diff_true_pred: 0.0711\n",
            "Epoch 8/200\n",
            "312/312 [==============================] - 0s 53us/step - loss: 0.0084 - diff_true_pred: 0.0729 - val_loss: 0.0071 - val_diff_true_pred: 0.0710\n",
            "Epoch 9/200\n",
            "312/312 [==============================] - 0s 48us/step - loss: 0.0084 - diff_true_pred: 0.0728 - val_loss: 0.0071 - val_diff_true_pred: 0.0709\n",
            "Epoch 10/200\n",
            "312/312 [==============================] - 0s 62us/step - loss: 0.0084 - diff_true_pred: 0.0729 - val_loss: 0.0071 - val_diff_true_pred: 0.0707\n",
            "Epoch 11/200\n",
            "312/312 [==============================] - 0s 60us/step - loss: 0.0084 - diff_true_pred: 0.0726 - val_loss: 0.0070 - val_diff_true_pred: 0.0706\n",
            "Epoch 12/200\n",
            "312/312 [==============================] - 0s 57us/step - loss: 0.0084 - diff_true_pred: 0.0724 - val_loss: 0.0070 - val_diff_true_pred: 0.0705\n",
            "Epoch 13/200\n",
            "312/312 [==============================] - 0s 76us/step - loss: 0.0083 - diff_true_pred: 0.0725 - val_loss: 0.0070 - val_diff_true_pred: 0.0704\n",
            "Epoch 14/200\n",
            "312/312 [==============================] - 0s 55us/step - loss: 0.0083 - diff_true_pred: 0.0723 - val_loss: 0.0070 - val_diff_true_pred: 0.0703\n",
            "Epoch 15/200\n",
            "312/312 [==============================] - 0s 65us/step - loss: 0.0083 - diff_true_pred: 0.0723 - val_loss: 0.0070 - val_diff_true_pred: 0.0702\n",
            "Epoch 16/200\n",
            "312/312 [==============================] - 0s 60us/step - loss: 0.0083 - diff_true_pred: 0.0723 - val_loss: 0.0069 - val_diff_true_pred: 0.0700\n",
            "Epoch 17/200\n",
            "312/312 [==============================] - 0s 59us/step - loss: 0.0083 - diff_true_pred: 0.0722 - val_loss: 0.0069 - val_diff_true_pred: 0.0699\n",
            "Epoch 18/200\n",
            "312/312 [==============================] - 0s 56us/step - loss: 0.0083 - diff_true_pred: 0.0720 - val_loss: 0.0069 - val_diff_true_pred: 0.0698\n",
            "Epoch 19/200\n",
            "312/312 [==============================] - 0s 70us/step - loss: 0.0083 - diff_true_pred: 0.0720 - val_loss: 0.0069 - val_diff_true_pred: 0.0697\n",
            "Epoch 20/200\n",
            "312/312 [==============================] - 0s 69us/step - loss: 0.0082 - diff_true_pred: 0.0720 - val_loss: 0.0069 - val_diff_true_pred: 0.0696\n",
            "Epoch 21/200\n",
            "312/312 [==============================] - 0s 62us/step - loss: 0.0082 - diff_true_pred: 0.0720 - val_loss: 0.0068 - val_diff_true_pred: 0.0695\n",
            "Epoch 22/200\n",
            "312/312 [==============================] - 0s 58us/step - loss: 0.0082 - diff_true_pred: 0.0720 - val_loss: 0.0068 - val_diff_true_pred: 0.0694\n",
            "Epoch 23/200\n",
            "312/312 [==============================] - 0s 61us/step - loss: 0.0082 - diff_true_pred: 0.0717 - val_loss: 0.0068 - val_diff_true_pred: 0.0693\n",
            "Epoch 24/200\n",
            "312/312 [==============================] - 0s 58us/step - loss: 0.0082 - diff_true_pred: 0.0718 - val_loss: 0.0068 - val_diff_true_pred: 0.0692\n",
            "Epoch 25/200\n",
            "312/312 [==============================] - 0s 69us/step - loss: 0.0082 - diff_true_pred: 0.0717 - val_loss: 0.0068 - val_diff_true_pred: 0.0691\n",
            "Epoch 26/200\n",
            "312/312 [==============================] - 0s 58us/step - loss: 0.0082 - diff_true_pred: 0.0717 - val_loss: 0.0068 - val_diff_true_pred: 0.0689\n",
            "Epoch 27/200\n",
            "312/312 [==============================] - 0s 55us/step - loss: 0.0081 - diff_true_pred: 0.0716 - val_loss: 0.0067 - val_diff_true_pred: 0.0689\n",
            "Epoch 28/200\n",
            "312/312 [==============================] - 0s 69us/step - loss: 0.0081 - diff_true_pred: 0.0715 - val_loss: 0.0067 - val_diff_true_pred: 0.0688\n",
            "Epoch 29/200\n",
            "312/312 [==============================] - 0s 61us/step - loss: 0.0081 - diff_true_pred: 0.0716 - val_loss: 0.0067 - val_diff_true_pred: 0.0687\n",
            "Epoch 30/200\n",
            "312/312 [==============================] - 0s 67us/step - loss: 0.0081 - diff_true_pred: 0.0715 - val_loss: 0.0067 - val_diff_true_pred: 0.0686\n",
            "Epoch 31/200\n",
            "312/312 [==============================] - 0s 61us/step - loss: 0.0081 - diff_true_pred: 0.0716 - val_loss: 0.0067 - val_diff_true_pred: 0.0685\n",
            "Epoch 32/200\n",
            "312/312 [==============================] - 0s 60us/step - loss: 0.0081 - diff_true_pred: 0.0714 - val_loss: 0.0067 - val_diff_true_pred: 0.0684\n",
            "Epoch 33/200\n",
            "312/312 [==============================] - 0s 57us/step - loss: 0.0081 - diff_true_pred: 0.0712 - val_loss: 0.0067 - val_diff_true_pred: 0.0683\n",
            "Epoch 34/200\n",
            "312/312 [==============================] - 0s 71us/step - loss: 0.0081 - diff_true_pred: 0.0712 - val_loss: 0.0066 - val_diff_true_pred: 0.0683\n",
            "Epoch 35/200\n",
            "312/312 [==============================] - 0s 60us/step - loss: 0.0081 - diff_true_pred: 0.0710 - val_loss: 0.0066 - val_diff_true_pred: 0.0682\n",
            "Epoch 36/200\n",
            "312/312 [==============================] - 0s 60us/step - loss: 0.0080 - diff_true_pred: 0.0710 - val_loss: 0.0066 - val_diff_true_pred: 0.0681\n",
            "Epoch 37/200\n",
            "312/312 [==============================] - 0s 55us/step - loss: 0.0080 - diff_true_pred: 0.0710 - val_loss: 0.0066 - val_diff_true_pred: 0.0680\n",
            "Epoch 38/200\n",
            "312/312 [==============================] - 0s 58us/step - loss: 0.0080 - diff_true_pred: 0.0709 - val_loss: 0.0066 - val_diff_true_pred: 0.0679\n",
            "Epoch 39/200\n",
            "312/312 [==============================] - 0s 68us/step - loss: 0.0080 - diff_true_pred: 0.0710 - val_loss: 0.0066 - val_diff_true_pred: 0.0678\n",
            "Epoch 40/200\n",
            "312/312 [==============================] - 0s 61us/step - loss: 0.0080 - diff_true_pred: 0.0709 - val_loss: 0.0066 - val_diff_true_pred: 0.0678\n",
            "Epoch 41/200\n",
            "312/312 [==============================] - 0s 68us/step - loss: 0.0080 - diff_true_pred: 0.0708 - val_loss: 0.0065 - val_diff_true_pred: 0.0677\n",
            "Epoch 42/200\n",
            "312/312 [==============================] - 0s 48us/step - loss: 0.0080 - diff_true_pred: 0.0707 - val_loss: 0.0065 - val_diff_true_pred: 0.0676\n",
            "Epoch 43/200\n",
            "312/312 [==============================] - 0s 63us/step - loss: 0.0080 - diff_true_pred: 0.0707 - val_loss: 0.0065 - val_diff_true_pred: 0.0675\n",
            "Epoch 44/200\n",
            "312/312 [==============================] - 0s 54us/step - loss: 0.0080 - diff_true_pred: 0.0708 - val_loss: 0.0065 - val_diff_true_pred: 0.0673\n",
            "Epoch 45/200\n",
            "312/312 [==============================] - 0s 56us/step - loss: 0.0080 - diff_true_pred: 0.0707 - val_loss: 0.0065 - val_diff_true_pred: 0.0672\n",
            "Epoch 46/200\n",
            "312/312 [==============================] - 0s 55us/step - loss: 0.0079 - diff_true_pred: 0.0708 - val_loss: 0.0065 - val_diff_true_pred: 0.0673\n",
            "Epoch 47/200\n",
            "312/312 [==============================] - 0s 51us/step - loss: 0.0079 - diff_true_pred: 0.0706 - val_loss: 0.0065 - val_diff_true_pred: 0.0672\n",
            "Epoch 48/200\n",
            "312/312 [==============================] - 0s 59us/step - loss: 0.0079 - diff_true_pred: 0.0706 - val_loss: 0.0065 - val_diff_true_pred: 0.0670\n",
            "Epoch 49/200\n",
            "312/312 [==============================] - 0s 58us/step - loss: 0.0079 - diff_true_pred: 0.0706 - val_loss: 0.0064 - val_diff_true_pred: 0.0669\n",
            "Epoch 50/200\n",
            "312/312 [==============================] - 0s 56us/step - loss: 0.0079 - diff_true_pred: 0.0705 - val_loss: 0.0064 - val_diff_true_pred: 0.0670\n",
            "Epoch 51/200\n",
            "312/312 [==============================] - 0s 52us/step - loss: 0.0079 - diff_true_pred: 0.0704 - val_loss: 0.0064 - val_diff_true_pred: 0.0668\n",
            "Epoch 52/200\n",
            "312/312 [==============================] - 0s 69us/step - loss: 0.0079 - diff_true_pred: 0.0705 - val_loss: 0.0064 - val_diff_true_pred: 0.0666\n",
            "Epoch 53/200\n",
            "312/312 [==============================] - 0s 63us/step - loss: 0.0079 - diff_true_pred: 0.0704 - val_loss: 0.0064 - val_diff_true_pred: 0.0665\n",
            "Epoch 54/200\n",
            "312/312 [==============================] - 0s 59us/step - loss: 0.0079 - diff_true_pred: 0.0705 - val_loss: 0.0064 - val_diff_true_pred: 0.0664\n",
            "Epoch 55/200\n",
            "312/312 [==============================] - 0s 63us/step - loss: 0.0079 - diff_true_pred: 0.0704 - val_loss: 0.0064 - val_diff_true_pred: 0.0664\n",
            "Epoch 56/200\n",
            "312/312 [==============================] - 0s 61us/step - loss: 0.0078 - diff_true_pred: 0.0704 - val_loss: 0.0064 - val_diff_true_pred: 0.0665\n",
            "Epoch 57/200\n",
            "312/312 [==============================] - 0s 64us/step - loss: 0.0078 - diff_true_pred: 0.0702 - val_loss: 0.0064 - val_diff_true_pred: 0.0663\n",
            "Epoch 58/200\n",
            "312/312 [==============================] - 0s 68us/step - loss: 0.0078 - diff_true_pred: 0.0702 - val_loss: 0.0063 - val_diff_true_pred: 0.0665\n",
            "Epoch 59/200\n",
            "312/312 [==============================] - 0s 59us/step - loss: 0.0078 - diff_true_pred: 0.0702 - val_loss: 0.0063 - val_diff_true_pred: 0.0662\n",
            "Epoch 60/200\n",
            "312/312 [==============================] - 0s 59us/step - loss: 0.0078 - diff_true_pred: 0.0701 - val_loss: 0.0063 - val_diff_true_pred: 0.0662\n",
            "Epoch 61/200\n",
            "312/312 [==============================] - 0s 63us/step - loss: 0.0078 - diff_true_pred: 0.0701 - val_loss: 0.0063 - val_diff_true_pred: 0.0661\n",
            "Epoch 62/200\n",
            "312/312 [==============================] - 0s 54us/step - loss: 0.0078 - diff_true_pred: 0.0701 - val_loss: 0.0063 - val_diff_true_pred: 0.0660\n",
            "Epoch 63/200\n",
            "312/312 [==============================] - 0s 68us/step - loss: 0.0078 - diff_true_pred: 0.0701 - val_loss: 0.0063 - val_diff_true_pred: 0.0661\n",
            "Epoch 64/200\n",
            "312/312 [==============================] - 0s 64us/step - loss: 0.0078 - diff_true_pred: 0.0699 - val_loss: 0.0063 - val_diff_true_pred: 0.0660\n",
            "Epoch 65/200\n",
            "312/312 [==============================] - 0s 76us/step - loss: 0.0078 - diff_true_pred: 0.0700 - val_loss: 0.0063 - val_diff_true_pred: 0.0659\n",
            "Epoch 66/200\n",
            "312/312 [==============================] - 0s 59us/step - loss: 0.0078 - diff_true_pred: 0.0700 - val_loss: 0.0063 - val_diff_true_pred: 0.0659\n",
            "Epoch 67/200\n",
            "312/312 [==============================] - 0s 62us/step - loss: 0.0077 - diff_true_pred: 0.0698 - val_loss: 0.0063 - val_diff_true_pred: 0.0658\n",
            "Epoch 68/200\n",
            "312/312 [==============================] - 0s 61us/step - loss: 0.0078 - diff_true_pred: 0.0698 - val_loss: 0.0063 - val_diff_true_pred: 0.0656\n",
            "Epoch 69/200\n",
            "312/312 [==============================] - 0s 64us/step - loss: 0.0077 - diff_true_pred: 0.0699 - val_loss: 0.0062 - val_diff_true_pred: 0.0657\n",
            "Epoch 70/200\n",
            "312/312 [==============================] - 0s 70us/step - loss: 0.0077 - diff_true_pred: 0.0698 - val_loss: 0.0062 - val_diff_true_pred: 0.0656\n",
            "Epoch 71/200\n",
            "312/312 [==============================] - 0s 70us/step - loss: 0.0077 - diff_true_pred: 0.0697 - val_loss: 0.0063 - val_diff_true_pred: 0.0654\n",
            "Epoch 72/200\n",
            "312/312 [==============================] - 0s 58us/step - loss: 0.0077 - diff_true_pred: 0.0700 - val_loss: 0.0062 - val_diff_true_pred: 0.0654\n",
            "Epoch 73/200\n",
            "312/312 [==============================] - 0s 51us/step - loss: 0.0077 - diff_true_pred: 0.0698 - val_loss: 0.0062 - val_diff_true_pred: 0.0653\n",
            "Epoch 74/200\n",
            "312/312 [==============================] - 0s 51us/step - loss: 0.0077 - diff_true_pred: 0.0697 - val_loss: 0.0062 - val_diff_true_pred: 0.0657\n",
            "Epoch 75/200\n",
            "312/312 [==============================] - 0s 52us/step - loss: 0.0077 - diff_true_pred: 0.0696 - val_loss: 0.0062 - val_diff_true_pred: 0.0655\n",
            "Epoch 76/200\n",
            "312/312 [==============================] - 0s 54us/step - loss: 0.0077 - diff_true_pred: 0.0696 - val_loss: 0.0062 - val_diff_true_pred: 0.0656\n",
            "Epoch 77/200\n",
            "312/312 [==============================] - 0s 54us/step - loss: 0.0077 - diff_true_pred: 0.0695 - val_loss: 0.0062 - val_diff_true_pred: 0.0655\n",
            "Epoch 78/200\n",
            "312/312 [==============================] - 0s 68us/step - loss: 0.0077 - diff_true_pred: 0.0695 - val_loss: 0.0062 - val_diff_true_pred: 0.0656\n",
            "Epoch 79/200\n",
            "312/312 [==============================] - 0s 56us/step - loss: 0.0077 - diff_true_pred: 0.0694 - val_loss: 0.0061 - val_diff_true_pred: 0.0653\n",
            "Epoch 80/200\n",
            "312/312 [==============================] - 0s 51us/step - loss: 0.0077 - diff_true_pred: 0.0695 - val_loss: 0.0061 - val_diff_true_pred: 0.0653\n",
            "Epoch 81/200\n",
            "312/312 [==============================] - 0s 56us/step - loss: 0.0077 - diff_true_pred: 0.0694 - val_loss: 0.0061 - val_diff_true_pred: 0.0653\n",
            "Epoch 82/200\n",
            "312/312 [==============================] - 0s 64us/step - loss: 0.0076 - diff_true_pred: 0.0694 - val_loss: 0.0061 - val_diff_true_pred: 0.0654\n",
            "Epoch 83/200\n",
            "312/312 [==============================] - 0s 57us/step - loss: 0.0077 - diff_true_pred: 0.0694 - val_loss: 0.0061 - val_diff_true_pred: 0.0655\n",
            "Epoch 84/200\n",
            "312/312 [==============================] - 0s 61us/step - loss: 0.0077 - diff_true_pred: 0.0693 - val_loss: 0.0061 - val_diff_true_pred: 0.0652\n",
            "Epoch 85/200\n",
            "312/312 [==============================] - 0s 63us/step - loss: 0.0076 - diff_true_pred: 0.0693 - val_loss: 0.0061 - val_diff_true_pred: 0.0650\n",
            "Epoch 86/200\n",
            "312/312 [==============================] - 0s 56us/step - loss: 0.0076 - diff_true_pred: 0.0694 - val_loss: 0.0061 - val_diff_true_pred: 0.0651\n",
            "Epoch 87/200\n",
            "312/312 [==============================] - 0s 56us/step - loss: 0.0076 - diff_true_pred: 0.0692 - val_loss: 0.0061 - val_diff_true_pred: 0.0649\n",
            "Epoch 88/200\n",
            "312/312 [==============================] - 0s 53us/step - loss: 0.0076 - diff_true_pred: 0.0693 - val_loss: 0.0061 - val_diff_true_pred: 0.0648\n",
            "Epoch 89/200\n",
            "312/312 [==============================] - 0s 56us/step - loss: 0.0076 - diff_true_pred: 0.0693 - val_loss: 0.0061 - val_diff_true_pred: 0.0648\n",
            "Epoch 90/200\n",
            "312/312 [==============================] - 0s 52us/step - loss: 0.0076 - diff_true_pred: 0.0692 - val_loss: 0.0061 - val_diff_true_pred: 0.0648\n",
            "Epoch 91/200\n",
            "312/312 [==============================] - 0s 54us/step - loss: 0.0076 - diff_true_pred: 0.0692 - val_loss: 0.0061 - val_diff_true_pred: 0.0647\n",
            "Epoch 92/200\n",
            "312/312 [==============================] - 0s 57us/step - loss: 0.0076 - diff_true_pred: 0.0691 - val_loss: 0.0061 - val_diff_true_pred: 0.0647\n",
            "Epoch 93/200\n",
            "312/312 [==============================] - 0s 61us/step - loss: 0.0076 - diff_true_pred: 0.0691 - val_loss: 0.0061 - val_diff_true_pred: 0.0647\n",
            "Epoch 94/200\n",
            "312/312 [==============================] - 0s 67us/step - loss: 0.0076 - diff_true_pred: 0.0691 - val_loss: 0.0061 - val_diff_true_pred: 0.0647\n",
            "Epoch 95/200\n",
            "312/312 [==============================] - 0s 61us/step - loss: 0.0076 - diff_true_pred: 0.0690 - val_loss: 0.0060 - val_diff_true_pred: 0.0648\n",
            "Epoch 96/200\n",
            "312/312 [==============================] - 0s 55us/step - loss: 0.0076 - diff_true_pred: 0.0690 - val_loss: 0.0061 - val_diff_true_pred: 0.0646\n",
            "Epoch 97/200\n",
            "312/312 [==============================] - 0s 61us/step - loss: 0.0076 - diff_true_pred: 0.0691 - val_loss: 0.0060 - val_diff_true_pred: 0.0646\n",
            "Epoch 98/200\n",
            "312/312 [==============================] - 0s 54us/step - loss: 0.0075 - diff_true_pred: 0.0690 - val_loss: 0.0060 - val_diff_true_pred: 0.0645\n",
            "Epoch 99/200\n",
            "312/312 [==============================] - 0s 54us/step - loss: 0.0075 - diff_true_pred: 0.0690 - val_loss: 0.0060 - val_diff_true_pred: 0.0645\n",
            "Epoch 100/200\n",
            "312/312 [==============================] - 0s 51us/step - loss: 0.0075 - diff_true_pred: 0.0689 - val_loss: 0.0060 - val_diff_true_pred: 0.0643\n",
            "Epoch 101/200\n",
            "312/312 [==============================] - 0s 54us/step - loss: 0.0076 - diff_true_pred: 0.0690 - val_loss: 0.0061 - val_diff_true_pred: 0.0642\n",
            "Epoch 102/200\n",
            "312/312 [==============================] - 0s 60us/step - loss: 0.0076 - diff_true_pred: 0.0691 - val_loss: 0.0060 - val_diff_true_pred: 0.0642\n",
            "Epoch 103/200\n",
            "312/312 [==============================] - 0s 54us/step - loss: 0.0075 - diff_true_pred: 0.0690 - val_loss: 0.0060 - val_diff_true_pred: 0.0643\n",
            "Epoch 104/200\n",
            "312/312 [==============================] - 0s 57us/step - loss: 0.0075 - diff_true_pred: 0.0688 - val_loss: 0.0060 - val_diff_true_pred: 0.0641\n",
            "Epoch 105/200\n",
            "312/312 [==============================] - 0s 57us/step - loss: 0.0075 - diff_true_pred: 0.0689 - val_loss: 0.0060 - val_diff_true_pred: 0.0643\n",
            "Epoch 106/200\n",
            "312/312 [==============================] - 0s 54us/step - loss: 0.0075 - diff_true_pred: 0.0688 - val_loss: 0.0060 - val_diff_true_pred: 0.0643\n",
            "Epoch 107/200\n",
            "312/312 [==============================] - 0s 59us/step - loss: 0.0075 - diff_true_pred: 0.0688 - val_loss: 0.0060 - val_diff_true_pred: 0.0643\n",
            "Epoch 108/200\n",
            "312/312 [==============================] - 0s 47us/step - loss: 0.0075 - diff_true_pred: 0.0687 - val_loss: 0.0060 - val_diff_true_pred: 0.0643\n",
            "Epoch 109/200\n",
            "312/312 [==============================] - 0s 51us/step - loss: 0.0075 - diff_true_pred: 0.0687 - val_loss: 0.0059 - val_diff_true_pred: 0.0644\n",
            "Epoch 110/200\n",
            "312/312 [==============================] - 0s 57us/step - loss: 0.0075 - diff_true_pred: 0.0686 - val_loss: 0.0059 - val_diff_true_pred: 0.0644\n",
            "Epoch 111/200\n",
            "312/312 [==============================] - 0s 51us/step - loss: 0.0075 - diff_true_pred: 0.0686 - val_loss: 0.0059 - val_diff_true_pred: 0.0644\n",
            "Epoch 112/200\n",
            "312/312 [==============================] - 0s 55us/step - loss: 0.0075 - diff_true_pred: 0.0685 - val_loss: 0.0059 - val_diff_true_pred: 0.0642\n",
            "Epoch 113/200\n",
            "312/312 [==============================] - 0s 56us/step - loss: 0.0075 - diff_true_pred: 0.0685 - val_loss: 0.0059 - val_diff_true_pred: 0.0643\n",
            "Epoch 114/200\n",
            "312/312 [==============================] - 0s 58us/step - loss: 0.0075 - diff_true_pred: 0.0685 - val_loss: 0.0059 - val_diff_true_pred: 0.0642\n",
            "Epoch 115/200\n",
            "312/312 [==============================] - 0s 52us/step - loss: 0.0074 - diff_true_pred: 0.0684 - val_loss: 0.0059 - val_diff_true_pred: 0.0640\n",
            "Epoch 116/200\n",
            "312/312 [==============================] - 0s 55us/step - loss: 0.0074 - diff_true_pred: 0.0685 - val_loss: 0.0059 - val_diff_true_pred: 0.0641\n",
            "Epoch 117/200\n",
            "312/312 [==============================] - 0s 60us/step - loss: 0.0074 - diff_true_pred: 0.0684 - val_loss: 0.0059 - val_diff_true_pred: 0.0638\n",
            "Epoch 118/200\n",
            "312/312 [==============================] - 0s 52us/step - loss: 0.0075 - diff_true_pred: 0.0686 - val_loss: 0.0059 - val_diff_true_pred: 0.0638\n",
            "Epoch 119/200\n",
            "312/312 [==============================] - 0s 54us/step - loss: 0.0074 - diff_true_pred: 0.0686 - val_loss: 0.0059 - val_diff_true_pred: 0.0638\n",
            "Epoch 120/200\n",
            "312/312 [==============================] - 0s 59us/step - loss: 0.0074 - diff_true_pred: 0.0685 - val_loss: 0.0059 - val_diff_true_pred: 0.0636\n",
            "Epoch 121/200\n",
            "312/312 [==============================] - 0s 53us/step - loss: 0.0074 - diff_true_pred: 0.0686 - val_loss: 0.0059 - val_diff_true_pred: 0.0637\n",
            "Epoch 122/200\n",
            "312/312 [==============================] - 0s 52us/step - loss: 0.0074 - diff_true_pred: 0.0684 - val_loss: 0.0059 - val_diff_true_pred: 0.0640\n",
            "Epoch 123/200\n",
            "312/312 [==============================] - 0s 53us/step - loss: 0.0074 - diff_true_pred: 0.0683 - val_loss: 0.0059 - val_diff_true_pred: 0.0638\n",
            "Epoch 124/200\n",
            "312/312 [==============================] - 0s 55us/step - loss: 0.0074 - diff_true_pred: 0.0683 - val_loss: 0.0059 - val_diff_true_pred: 0.0638\n",
            "Epoch 125/200\n",
            "312/312 [==============================] - 0s 60us/step - loss: 0.0074 - diff_true_pred: 0.0683 - val_loss: 0.0059 - val_diff_true_pred: 0.0638\n",
            "Epoch 126/200\n",
            "312/312 [==============================] - 0s 59us/step - loss: 0.0074 - diff_true_pred: 0.0683 - val_loss: 0.0059 - val_diff_true_pred: 0.0637\n",
            "Epoch 127/200\n",
            "312/312 [==============================] - 0s 52us/step - loss: 0.0074 - diff_true_pred: 0.0684 - val_loss: 0.0059 - val_diff_true_pred: 0.0637\n",
            "Epoch 128/200\n",
            "312/312 [==============================] - 0s 50us/step - loss: 0.0074 - diff_true_pred: 0.0682 - val_loss: 0.0058 - val_diff_true_pred: 0.0638\n",
            "Epoch 129/200\n",
            "312/312 [==============================] - 0s 60us/step - loss: 0.0074 - diff_true_pred: 0.0682 - val_loss: 0.0058 - val_diff_true_pred: 0.0637\n",
            "Epoch 130/200\n",
            "312/312 [==============================] - 0s 58us/step - loss: 0.0074 - diff_true_pred: 0.0682 - val_loss: 0.0058 - val_diff_true_pred: 0.0636\n",
            "Epoch 131/200\n",
            "312/312 [==============================] - 0s 52us/step - loss: 0.0074 - diff_true_pred: 0.0683 - val_loss: 0.0058 - val_diff_true_pred: 0.0636\n",
            "Epoch 132/200\n",
            "312/312 [==============================] - 0s 54us/step - loss: 0.0074 - diff_true_pred: 0.0683 - val_loss: 0.0058 - val_diff_true_pred: 0.0635\n",
            "Epoch 133/200\n",
            "312/312 [==============================] - 0s 52us/step - loss: 0.0074 - diff_true_pred: 0.0681 - val_loss: 0.0058 - val_diff_true_pred: 0.0636\n",
            "Epoch 134/200\n",
            "312/312 [==============================] - 0s 50us/step - loss: 0.0074 - diff_true_pred: 0.0681 - val_loss: 0.0058 - val_diff_true_pred: 0.0636\n",
            "Epoch 135/200\n",
            "312/312 [==============================] - 0s 51us/step - loss: 0.0074 - diff_true_pred: 0.0681 - val_loss: 0.0058 - val_diff_true_pred: 0.0636\n",
            "Epoch 136/200\n",
            "312/312 [==============================] - 0s 51us/step - loss: 0.0073 - diff_true_pred: 0.0680 - val_loss: 0.0058 - val_diff_true_pred: 0.0634\n",
            "Epoch 137/200\n",
            "312/312 [==============================] - 0s 58us/step - loss: 0.0073 - diff_true_pred: 0.0680 - val_loss: 0.0058 - val_diff_true_pred: 0.0635\n",
            "Epoch 138/200\n",
            "312/312 [==============================] - 0s 57us/step - loss: 0.0073 - diff_true_pred: 0.0681 - val_loss: 0.0058 - val_diff_true_pred: 0.0635\n",
            "Epoch 139/200\n",
            "312/312 [==============================] - 0s 63us/step - loss: 0.0073 - diff_true_pred: 0.0680 - val_loss: 0.0058 - val_diff_true_pred: 0.0634\n",
            "Epoch 140/200\n",
            "312/312 [==============================] - 0s 54us/step - loss: 0.0073 - diff_true_pred: 0.0680 - val_loss: 0.0058 - val_diff_true_pred: 0.0635\n",
            "Epoch 141/200\n",
            "312/312 [==============================] - 0s 55us/step - loss: 0.0073 - diff_true_pred: 0.0680 - val_loss: 0.0058 - val_diff_true_pred: 0.0636\n",
            "Epoch 142/200\n",
            "312/312 [==============================] - 0s 56us/step - loss: 0.0073 - diff_true_pred: 0.0679 - val_loss: 0.0058 - val_diff_true_pred: 0.0634\n",
            "Epoch 143/200\n",
            "312/312 [==============================] - 0s 67us/step - loss: 0.0073 - diff_true_pred: 0.0679 - val_loss: 0.0058 - val_diff_true_pred: 0.0633\n",
            "Epoch 144/200\n",
            "312/312 [==============================] - 0s 62us/step - loss: 0.0073 - diff_true_pred: 0.0679 - val_loss: 0.0058 - val_diff_true_pred: 0.0634\n",
            "Epoch 145/200\n",
            "312/312 [==============================] - 0s 64us/step - loss: 0.0073 - diff_true_pred: 0.0678 - val_loss: 0.0058 - val_diff_true_pred: 0.0633\n",
            "Epoch 146/200\n",
            "312/312 [==============================] - 0s 58us/step - loss: 0.0073 - diff_true_pred: 0.0678 - val_loss: 0.0058 - val_diff_true_pred: 0.0631\n",
            "Epoch 147/200\n",
            "312/312 [==============================] - 0s 53us/step - loss: 0.0073 - diff_true_pred: 0.0679 - val_loss: 0.0058 - val_diff_true_pred: 0.0632\n",
            "Epoch 148/200\n",
            "312/312 [==============================] - 0s 59us/step - loss: 0.0073 - diff_true_pred: 0.0678 - val_loss: 0.0057 - val_diff_true_pred: 0.0632\n",
            "Epoch 149/200\n",
            "312/312 [==============================] - 0s 52us/step - loss: 0.0073 - diff_true_pred: 0.0678 - val_loss: 0.0057 - val_diff_true_pred: 0.0632\n",
            "Epoch 150/200\n",
            "312/312 [==============================] - 0s 67us/step - loss: 0.0073 - diff_true_pred: 0.0677 - val_loss: 0.0057 - val_diff_true_pred: 0.0631\n",
            "Epoch 151/200\n",
            "312/312 [==============================] - 0s 59us/step - loss: 0.0073 - diff_true_pred: 0.0677 - val_loss: 0.0057 - val_diff_true_pred: 0.0631\n",
            "Epoch 152/200\n",
            "312/312 [==============================] - 0s 54us/step - loss: 0.0073 - diff_true_pred: 0.0677 - val_loss: 0.0057 - val_diff_true_pred: 0.0629\n",
            "Epoch 153/200\n",
            "312/312 [==============================] - 0s 48us/step - loss: 0.0073 - diff_true_pred: 0.0678 - val_loss: 0.0057 - val_diff_true_pred: 0.0632\n",
            "Epoch 154/200\n",
            "312/312 [==============================] - 0s 49us/step - loss: 0.0073 - diff_true_pred: 0.0677 - val_loss: 0.0057 - val_diff_true_pred: 0.0630\n",
            "Epoch 155/200\n",
            "312/312 [==============================] - 0s 66us/step - loss: 0.0073 - diff_true_pred: 0.0677 - val_loss: 0.0057 - val_diff_true_pred: 0.0629\n",
            "Epoch 156/200\n",
            "312/312 [==============================] - 0s 70us/step - loss: 0.0073 - diff_true_pred: 0.0676 - val_loss: 0.0057 - val_diff_true_pred: 0.0627\n",
            "Epoch 157/200\n",
            "312/312 [==============================] - 0s 60us/step - loss: 0.0073 - diff_true_pred: 0.0678 - val_loss: 0.0057 - val_diff_true_pred: 0.0627\n",
            "Epoch 158/200\n",
            "312/312 [==============================] - 0s 57us/step - loss: 0.0072 - diff_true_pred: 0.0677 - val_loss: 0.0057 - val_diff_true_pred: 0.0627\n",
            "Epoch 159/200\n",
            "312/312 [==============================] - 0s 60us/step - loss: 0.0072 - diff_true_pred: 0.0676 - val_loss: 0.0057 - val_diff_true_pred: 0.0627\n",
            "Epoch 160/200\n",
            "312/312 [==============================] - 0s 62us/step - loss: 0.0072 - diff_true_pred: 0.0676 - val_loss: 0.0057 - val_diff_true_pred: 0.0628\n",
            "Epoch 161/200\n",
            "312/312 [==============================] - 0s 57us/step - loss: 0.0072 - diff_true_pred: 0.0676 - val_loss: 0.0057 - val_diff_true_pred: 0.0628\n",
            "Epoch 162/200\n",
            "312/312 [==============================] - 0s 55us/step - loss: 0.0072 - diff_true_pred: 0.0675 - val_loss: 0.0057 - val_diff_true_pred: 0.0627\n",
            "Epoch 163/200\n",
            "312/312 [==============================] - 0s 53us/step - loss: 0.0072 - diff_true_pred: 0.0675 - val_loss: 0.0057 - val_diff_true_pred: 0.0627\n",
            "Epoch 164/200\n",
            "312/312 [==============================] - 0s 55us/step - loss: 0.0072 - diff_true_pred: 0.0675 - val_loss: 0.0057 - val_diff_true_pred: 0.0626\n",
            "Epoch 165/200\n",
            "312/312 [==============================] - 0s 64us/step - loss: 0.0072 - diff_true_pred: 0.0676 - val_loss: 0.0057 - val_diff_true_pred: 0.0627\n",
            "Epoch 166/200\n",
            "312/312 [==============================] - 0s 60us/step - loss: 0.0072 - diff_true_pred: 0.0675 - val_loss: 0.0057 - val_diff_true_pred: 0.0626\n",
            "Epoch 167/200\n",
            "312/312 [==============================] - 0s 51us/step - loss: 0.0072 - diff_true_pred: 0.0674 - val_loss: 0.0057 - val_diff_true_pred: 0.0627\n",
            "Epoch 168/200\n",
            "312/312 [==============================] - 0s 66us/step - loss: 0.0072 - diff_true_pred: 0.0675 - val_loss: 0.0057 - val_diff_true_pred: 0.0627\n",
            "Epoch 169/200\n",
            "312/312 [==============================] - 0s 68us/step - loss: 0.0072 - diff_true_pred: 0.0674 - val_loss: 0.0057 - val_diff_true_pred: 0.0627\n",
            "Epoch 170/200\n",
            "312/312 [==============================] - 0s 58us/step - loss: 0.0072 - diff_true_pred: 0.0674 - val_loss: 0.0057 - val_diff_true_pred: 0.0627\n",
            "Epoch 171/200\n",
            "312/312 [==============================] - 0s 58us/step - loss: 0.0072 - diff_true_pred: 0.0673 - val_loss: 0.0057 - val_diff_true_pred: 0.0626\n",
            "Epoch 172/200\n",
            "312/312 [==============================] - 0s 62us/step - loss: 0.0072 - diff_true_pred: 0.0673 - val_loss: 0.0057 - val_diff_true_pred: 0.0626\n",
            "Epoch 173/200\n",
            "312/312 [==============================] - 0s 56us/step - loss: 0.0072 - diff_true_pred: 0.0674 - val_loss: 0.0057 - val_diff_true_pred: 0.0625\n",
            "Epoch 174/200\n",
            "312/312 [==============================] - 0s 58us/step - loss: 0.0072 - diff_true_pred: 0.0673 - val_loss: 0.0056 - val_diff_true_pred: 0.0627\n",
            "Epoch 175/200\n",
            "312/312 [==============================] - 0s 58us/step - loss: 0.0072 - diff_true_pred: 0.0673 - val_loss: 0.0057 - val_diff_true_pred: 0.0631\n",
            "Epoch 176/200\n",
            "312/312 [==============================] - 0s 59us/step - loss: 0.0072 - diff_true_pred: 0.0673 - val_loss: 0.0056 - val_diff_true_pred: 0.0627\n",
            "Epoch 177/200\n",
            "312/312 [==============================] - 0s 60us/step - loss: 0.0072 - diff_true_pred: 0.0672 - val_loss: 0.0056 - val_diff_true_pred: 0.0626\n",
            "Epoch 178/200\n",
            "312/312 [==============================] - 0s 59us/step - loss: 0.0072 - diff_true_pred: 0.0671 - val_loss: 0.0056 - val_diff_true_pred: 0.0625\n",
            "Epoch 179/200\n",
            "312/312 [==============================] - 0s 47us/step - loss: 0.0072 - diff_true_pred: 0.0672 - val_loss: 0.0056 - val_diff_true_pred: 0.0626\n",
            "Epoch 180/200\n",
            "312/312 [==============================] - 0s 48us/step - loss: 0.0072 - diff_true_pred: 0.0672 - val_loss: 0.0056 - val_diff_true_pred: 0.0625\n",
            "Epoch 181/200\n",
            "312/312 [==============================] - 0s 54us/step - loss: 0.0072 - diff_true_pred: 0.0671 - val_loss: 0.0056 - val_diff_true_pred: 0.0624\n",
            "Epoch 182/200\n",
            "312/312 [==============================] - 0s 53us/step - loss: 0.0071 - diff_true_pred: 0.0671 - val_loss: 0.0056 - val_diff_true_pred: 0.0624\n",
            "Epoch 183/200\n",
            "312/312 [==============================] - 0s 63us/step - loss: 0.0071 - diff_true_pred: 0.0671 - val_loss: 0.0056 - val_diff_true_pred: 0.0624\n",
            "Epoch 184/200\n",
            "312/312 [==============================] - 0s 65us/step - loss: 0.0071 - diff_true_pred: 0.0671 - val_loss: 0.0056 - val_diff_true_pred: 0.0622\n",
            "Epoch 185/200\n",
            "312/312 [==============================] - 0s 59us/step - loss: 0.0071 - diff_true_pred: 0.0671 - val_loss: 0.0056 - val_diff_true_pred: 0.0623\n",
            "Epoch 186/200\n",
            "312/312 [==============================] - 0s 57us/step - loss: 0.0071 - diff_true_pred: 0.0672 - val_loss: 0.0056 - val_diff_true_pred: 0.0622\n",
            "Epoch 187/200\n",
            "312/312 [==============================] - 0s 50us/step - loss: 0.0071 - diff_true_pred: 0.0671 - val_loss: 0.0056 - val_diff_true_pred: 0.0621\n",
            "Epoch 188/200\n",
            "312/312 [==============================] - 0s 54us/step - loss: 0.0071 - diff_true_pred: 0.0672 - val_loss: 0.0056 - val_diff_true_pred: 0.0621\n",
            "Epoch 189/200\n",
            "312/312 [==============================] - 0s 78us/step - loss: 0.0071 - diff_true_pred: 0.0671 - val_loss: 0.0056 - val_diff_true_pred: 0.0620\n",
            "Epoch 190/200\n",
            "312/312 [==============================] - 0s 52us/step - loss: 0.0071 - diff_true_pred: 0.0671 - val_loss: 0.0056 - val_diff_true_pred: 0.0621\n",
            "Epoch 191/200\n",
            "312/312 [==============================] - 0s 58us/step - loss: 0.0071 - diff_true_pred: 0.0670 - val_loss: 0.0056 - val_diff_true_pred: 0.0621\n",
            "Epoch 192/200\n",
            "312/312 [==============================] - 0s 55us/step - loss: 0.0071 - diff_true_pred: 0.0669 - val_loss: 0.0056 - val_diff_true_pred: 0.0621\n",
            "Epoch 193/200\n",
            "312/312 [==============================] - 0s 52us/step - loss: 0.0071 - diff_true_pred: 0.0669 - val_loss: 0.0056 - val_diff_true_pred: 0.0620\n",
            "Epoch 194/200\n",
            "312/312 [==============================] - 0s 53us/step - loss: 0.0071 - diff_true_pred: 0.0670 - val_loss: 0.0056 - val_diff_true_pred: 0.0622\n",
            "Epoch 195/200\n",
            "312/312 [==============================] - 0s 68us/step - loss: 0.0071 - diff_true_pred: 0.0669 - val_loss: 0.0056 - val_diff_true_pred: 0.0621\n",
            "Epoch 196/200\n",
            "312/312 [==============================] - 0s 62us/step - loss: 0.0071 - diff_true_pred: 0.0669 - val_loss: 0.0056 - val_diff_true_pred: 0.0621\n",
            "Epoch 197/200\n",
            "312/312 [==============================] - 0s 65us/step - loss: 0.0071 - diff_true_pred: 0.0668 - val_loss: 0.0056 - val_diff_true_pred: 0.0620\n",
            "Epoch 198/200\n",
            "312/312 [==============================] - 0s 61us/step - loss: 0.0071 - diff_true_pred: 0.0669 - val_loss: 0.0056 - val_diff_true_pred: 0.0620\n",
            "Epoch 199/200\n",
            "312/312 [==============================] - 0s 55us/step - loss: 0.0071 - diff_true_pred: 0.0669 - val_loss: 0.0056 - val_diff_true_pred: 0.0621\n",
            "Epoch 200/200\n",
            "312/312 [==============================] - 0s 58us/step - loss: 0.0071 - diff_true_pred: 0.0669 - val_loss: 0.0056 - val_diff_true_pred: 0.0620\n"
          ],
          "name": "stdout"
        }
      ]
    },
    {
      "metadata": {
        "id": "e_KYUo1B4f8d",
        "colab_type": "code",
        "colab": {}
      },
      "cell_type": "code",
      "source": [
        "def plot_history(network_history):\n",
        "\n",
        "  plt.figure()\n",
        "\n",
        "  plt.xlabel('Epochs')\n",
        "\n",
        "  plt.ylabel('Loss')\n",
        "  plt.plot(network_history.history['loss'])\n",
        "  plt.plot(network_history.history['val_loss'])\n",
        "  plt.legend(['Training', 'Validation'])\n",
        "  plt.figure()\n",
        "  plt.xlabel('Epochs')\n",
        "  plt.ylabel('Accuracy')\n",
        "  plt.plot(network_history.history['diff_true_pred'])\n",
        "  plt.plot(network_history.history['val_diff_true_pred'])\n",
        "  plt.legend(['Training', 'Validation'])\n",
        "  plt.show()"
      ],
      "execution_count": 0,
      "outputs": []
    },
    {
      "metadata": {
        "id": "Bj2sXza74pj-",
        "colab_type": "code",
        "colab": {
          "base_uri": "https://localhost:8080/",
          "height": 541
        },
        "outputId": "e3b70d96-58e4-4f86-a382-addcb94648be"
      },
      "cell_type": "code",
      "source": [
        "plot_history(network_history)"
      ],
      "execution_count": 62,
      "outputs": [
        {
          "output_type": "display_data",
          "data": {
            "image/png": "[encoded data removed]",
            "text/plain": [
              "<matplotlib.figure.Figure at 0x7fd213bdf590>"
            ]
          },
          "metadata": {
            "tags": []
          }
        },
        {
          "output_type": "display_data",
          "data": {
            "image/png": "[encoded data removed]",
            "text/plain": [
              "<matplotlib.figure.Figure at 0x7fd21943f1d0>"
            ]
          },
          "metadata": {
            "tags": []
          }
        }
      ]
    },
    {
      "metadata": {
        "id": "9aHeacqe4t_s",
        "colab_type": "code",
        "colab": {
          "base_uri": "https://localhost:8080/",
          "height": 34
        },
        "outputId": "5f85be31-273e-4af6-8581-7a18ef009cbe"
      },
      "cell_type": "code",
      "source": [
        "preds = model.predict(X_test)\n",
        "print(preds.shape)"
      ],
      "execution_count": 79,
      "outputs": [
        {
          "output_type": "stream",
          "text": [
            "(7, 1)\n"
          ],
          "name": "stdout"
        }
      ]
    },
    {
      "metadata": {
        "id": "3pnVourT4xlq",
        "colab_type": "code",
        "colab": {
          "base_uri": "https://localhost:8080/",
          "height": 139
        },
        "outputId": "30659877-95c3-43ff-df54-af8616ff25b9"
      },
      "cell_type": "code",
      "source": [
        "for t in [ (preds[i][0]*(max_temp-min_temp)+min_temp, Y_test[i][0]*(max_temp-min_temp)+min_temp,(preds[i][0] - Y_test[i][0] )*(max_temp-min_temp) ) for i in range(7) ]:\n",
        "  print(t)"
      ],
      "execution_count": 80,
      "outputs": [
        {
          "output_type": "stream",
          "text": [
            "(1.2840062379837036, -1.3000000000000007, 2.5840062379837034)\n",
            "(17.017650806903838, 22.5, -5.4823491930961605)\n",
            "(20.667718636989598, 25.0, -4.332281363010407)\n",
            "(4.402147799730301, 0.1999999999999993, 4.2021477997303025)\n",
            "(7.367151749134063, 12.300000000000004, -4.93284825086594)\n",
            "(25.76200243830681, 24.800000000000004, 0.9620024383068028)\n",
            "(9.015064686536789, 10.3, -1.2849353134632113)\n"
          ],
          "name": "stdout"
        }
      ]
    },
    {
      "metadata": {
        "id": "uVGS0e0mfh1l",
        "colab_type": "code",
        "colab": {
          "base_uri": "https://localhost:8080/",
          "height": 265
        },
        "outputId": "485a3edf-e3f2-4327-9b9c-eb0dab14b22e"
      },
      "cell_type": "code",
      "source": [
        "\n",
        "import numpy as np\n",
        "import matplotlib.pyplot as plt\n",
        "\n",
        "def dactivation(i):\n",
        "    return (abs(preds[i][0] - Y_test[i][0]) *(max_temp-min_temp))\n",
        "\n",
        "for i in range (7) : \n",
        "    plt.plot(i, dactivation(i) , 'g^')\n",
        "plt.show()"
      ],
      "execution_count": 81,
      "outputs": [
        {
          "output_type": "display_data",
          "data": {
            "image/png": "[encoded data removed]",
            "text/plain": [
              "<matplotlib.figure.Figure at 0x7fd214a9e950>"
            ]
          },
          "metadata": {
            "tags": []
          }
        }
      ]
    },
    {
      "metadata": {
        "id": "3be6hTERg3_x",
        "colab_type": "code",
        "colab": {
          "base_uri": "https://localhost:8080/",
          "height": 52
        },
        "outputId": "5bbad32f-8451-4c62-cd7d-96fad98f7adc"
      },
      "cell_type": "code",
      "source": [
        "preds = model.predict(X_pred)\n",
        "print(preds,max_temp,min_temp)                                    # a következő napi predikált előrejelzés\n",
        "print('the next day prediction:', preds*(max_temp-min_temp)+min_temp) # a következő napi predikált előrejelzés már renormálva\n",
        "\n",
        "#preds_renorm = preds*(max_temp-min_temp)+min_temp"
      ],
      "execution_count": 82,
      "outputs": [
        {
          "output_type": "stream",
          "text": [
            "(array([[0.38341525]], dtype=float32), 33.1, -20.6)\n",
            "('the next day prediction:', array([[-0.01060104]], dtype=float32))\n"
          ],
          "name": "stdout"
        }
      ]
    },
    {
      "metadata": {
        "id": "dDBtyMQC-znw",
        "colab_type": "code",
        "colab": {
          "base_uri": "https://localhost:8080/",
          "height": 139
        },
        "outputId": "cbed2db3-020c-44fc-f00a-f1e9c6be6b6f"
      },
      "cell_type": "code",
      "source": [
        "for week in range (1,7):\n",
        "    \n",
        "    preds = model.predict(X_pred)\n",
        "    X_pred_new = np.concatenate((X_pred, preds), axis=1)\n",
        " #   print (X_pred_new.shape)\n",
        " #   print (X_pred_new)\n",
        " #   X_pred = X_pred_new [-100:]\n",
        " #   print (X_pred.shape)\n",
        " #   print (X_pred)\n",
        "    X_pred = np.delete(X_pred_new, 0, 1)\n",
        "    \n",
        "    print('the next day prediction', week, preds)\n",
        "\n",
        "print('the next week prediction:', preds*(max_temp-min_temp)+min_temp) # a következő napi predikált előrejelzés már renormálva\n"
      ],
      "execution_count": 83,
      "outputs": [
        {
          "output_type": "stream",
          "text": [
            "('the next day prediction', 1, array([[0.38341525]], dtype=float32))\n",
            "('the next day prediction', 2, array([[0.33360472]], dtype=float32))\n",
            "('the next day prediction', 3, array([[0.35547495]], dtype=float32))\n",
            "('the next day prediction', 4, array([[0.3315957]], dtype=float32))\n",
            "('the next day prediction', 5, array([[0.28930694]], dtype=float32))\n",
            "('the next day prediction', 6, array([[0.24579856]], dtype=float32))\n",
            "('the next week prediction:', array([[-7.4006176]], dtype=float32))\n"
          ],
          "name": "stdout"
        }
      ]
    },
    {
      "metadata": {
        "id": "mLgARumbbEqg",
        "colab_type": "code",
        "colab": {
          "base_uri": "https://localhost:8080/",
          "height": 399
        },
        "outputId": "7a7ae2e4-f9f1-4dd1-b5c6-6bc9c6d2b57a"
      },
      "cell_type": "code",
      "source": [
        "for week in range (1,22):\n",
        "    \n",
        "    preds = model.predict(X_pred)\n",
        "    X_pred_new = np.concatenate((X_pred, preds), axis=1)\n",
        "    X_pred = np.delete(X_pred_new, 0, 1)\n",
        "    \n",
        "    print('the next day prediction', week, preds)\n",
        "\n",
        "print('the next month prediction:', preds*(max_temp-min_temp)+min_temp) # a következő napi predikált előrejelzés már renormálva"
      ],
      "execution_count": 86,
      "outputs": [
        {
          "output_type": "stream",
          "text": [
            "('the next day prediction', 1, array([[0.35510278]], dtype=float32))\n",
            "('the next day prediction', 2, array([[0.36843038]], dtype=float32))\n",
            "('the next day prediction', 3, array([[0.25235358]], dtype=float32))\n",
            "('the next day prediction', 4, array([[0.2656852]], dtype=float32))\n",
            "('the next day prediction', 5, array([[0.32306343]], dtype=float32))\n",
            "('the next day prediction', 6, array([[0.41422015]], dtype=float32))\n",
            "('the next day prediction', 7, array([[0.32767224]], dtype=float32))\n",
            "('the next day prediction', 8, array([[0.351222]], dtype=float32))\n",
            "('the next day prediction', 9, array([[0.39813635]], dtype=float32))\n",
            "('the next day prediction', 10, array([[0.2803288]], dtype=float32))\n",
            "('the next day prediction', 11, array([[0.26821756]], dtype=float32))\n",
            "('the next day prediction', 12, array([[0.38431194]], dtype=float32))\n",
            "('the next day prediction', 13, array([[0.457014]], dtype=float32))\n",
            "('the next day prediction', 14, array([[0.40127292]], dtype=float32))\n",
            "('the next day prediction', 15, array([[0.2680869]], dtype=float32))\n",
            "('the next day prediction', 16, array([[0.35322326]], dtype=float32))\n",
            "('the next day prediction', 17, array([[0.4019398]], dtype=float32))\n",
            "('the next day prediction', 18, array([[0.30390176]], dtype=float32))\n",
            "('the next day prediction', 19, array([[0.22351874]], dtype=float32))\n",
            "('the next day prediction', 20, array([[0.30093542]], dtype=float32))\n",
            "('the next day prediction', 21, array([[0.42053708]], dtype=float32))\n",
            "('the next month prediction:', array([[1.9828415]], dtype=float32))\n"
          ],
          "name": "stdout"
        }
      ]
    },
    {
      "metadata": {
        "id": "r9zOv7aUCai7",
        "colab_type": "code",
        "colab": {}
      },
      "cell_type": "code",
      "source": [
        ""
      ],
      "execution_count": 0,
      "outputs": []
    }
  ]
}