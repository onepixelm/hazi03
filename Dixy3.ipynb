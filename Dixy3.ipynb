{
  "nbformat": 4,
  "nbformat_minor": 0,
  "metadata": {
    "colab": {
      "name": "Dixy3.ipynb",
      "version": "0.3.2",
      "provenance": [],
      "collapsed_sections": [],
      "include_colab_link": true
    }
  },
  "cells": [
    {
      "cell_type": "markdown",
      "metadata": {
        "id": "view-in-github",
        "colab_type": "text"
      },
      "source": [
        "[View in Colaboratory](https://colab.research.google.com/github/onepixelm/hazi03/blob/master/Dixy3.ipynb)"
      ]
    },
    {
      "metadata": {
        "id": "Rgxhpq5jaTLg",
        "colab_type": "code",
        "colab": {
          "base_uri": "https://localhost:8080/",
          "height": 34
        },
        "outputId": "33e3f388-06d4-4577-ef75-6f42b6780a9a"
      },
      "cell_type": "code",
      "source": [
        "import numpy as np\n",
        "import matplotlib.pyplot as plt\n",
        "\n",
        "%matplotlib inline\n",
        "\n",
        "from keras.models import Sequential\n",
        "from keras.layers.core import Dense\n",
        "from keras.optimizers import SGD"
      ],
      "execution_count": 2,
      "outputs": [
        {
          "output_type": "stream",
          "text": [
            "Using TensorFlow backend.\n"
          ],
          "name": "stderr"
        }
      ]
    },
    {
      "metadata": {
        "id": "_zVGArFzafIg",
        "colab_type": "code",
        "colab": {}
      },
      "cell_type": "code",
      "source": [
        "def diff_true_pred(y_true, y_pred):\n",
        "  return abs(y_true - y_pred)\n",
        "\n",
        "model = Sequential()\n",
        "model.add(Dense(50, activation='relu', input_shape=(100,)))\n",
        "model.add(Dense(50, activation='relu'))\n",
        "model.add(Dense(1, activation='linear'))\n",
        "\n",
        "model.compile(loss='mean_squared_error', optimizer=SGD(lr=0.001), metrics=[diff_true_pred])"
      ],
      "execution_count": 0,
      "outputs": []
    },
    {
      "metadata": {
        "id": "2sTg-fi3bjMu",
        "colab_type": "code",
        "colab": {
          "resources": {
            "http://localhost:8080/nbextensions/google.colab/files.js": {
              "data": "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",
              "ok": true,
              "headers": [
                [
                  "content-type",
                  "application/javascript"
                ]
              ],
              "status": 200,
              "status_text": "OK"
            }
          },
          "base_uri": "https://localhost:8080/",
          "height": 81
        },
        "outputId": "88af7126-3fac-4057-ec0a-3a825d432b6d"
      },
      "cell_type": "code",
      "source": [
        "from google.colab import files\n",
        "\n",
        "uploaded = files.upload()\n",
        "file  = open(\"BP_d.txt\", 'r')  \n",
        "head = file.readlines()[1:] \n",
        "file.close()\n"
      ],
      "execution_count": 4,
      "outputs": [
        {
          "output_type": "display_data",
          "data": {
            "text/plain": [
              "<IPython.core.display.HTML object>"
            ],
            "text/html": [
              "\n",
              "     <input type=\"file\" id=\"files-4cd4071e-3bda-4371-871b-e65f042a57e2\" name=\"files[]\" multiple disabled />\n",
              "     <output id=\"result-4cd4071e-3bda-4371-871b-e65f042a57e2\">\n",
              "      Upload widget is only available when the cell has been executed in the\n",
              "      current browser session. Please rerun this cell to enable.\n",
              "      </output>\n",
              "      <script src=\"/nbextensions/google.colab/files.js\"></script> "
            ]
          },
          "metadata": {
            "tags": []
          }
        },
        {
          "output_type": "stream",
          "text": [
            "Saving BP_d.txt to BP_d.txt\n"
          ],
          "name": "stdout"
        }
      ]
    },
    {
      "metadata": {
        "id": "YLDtUPtM5kJz",
        "colab_type": "code",
        "colab": {
          "base_uri": "https://localhost:8080/",
          "height": 364
        },
        "outputId": "77f4d708-9a0e-4677-f3f9-76545d31869c"
      },
      "cell_type": "code",
      "source": [
        "head2 = [ float(s.split(';')[1]) for s in head ]\n",
        "print(len(head2))\n",
        "\n",
        "min_temp = head2[0]\n",
        "max_temp = head2[0]\n",
        "for t in head2:\n",
        "  if t < min_temp:\n",
        "    min_temp = t\n",
        "  if t > max_temp:\n",
        "    max_temp = t\n",
        "print(\"Min temp: {} Max temp: {}\".format(min_temp,max_temp))\n",
        "X_pred = (np.asarray([head2[-100:]]) - min_temp)/(max_temp - min_temp)\n",
        "print(X_pred)\n",
        "print(X_pred.shape)\n",
        "head2 = [ head2[i*101:(i+1)*101] for i in range(len(head2)/101) ]\n",
        "Y_temp = [ l[-1:] for l in head2 ]\n",
        "#print(Y_temp)\n",
        "X_temp = [ l[:-1] for l in head2 ]\n",
        "#print(X_temp)"
      ],
      "execution_count": 23,
      "outputs": [
        {
          "output_type": "stream",
          "text": [
            "40177\n",
            "Min temp: -20.6 Max temp: 33.1\n",
            "[[0.68156425 0.7113594  0.7132216  0.6443203  0.6405959  0.63873371\n",
            "  0.61080074 0.5698324  0.57728119 0.60893855 0.61266294 0.60148976\n",
            "  0.5716946  0.61080074 0.60893855 0.5698324  0.55307263 0.5735568\n",
            "  0.57914339 0.57541899 0.5679702  0.5679702  0.56424581 0.58845438\n",
            "  0.57914339 0.56238361 0.56052142 0.55307263 0.52513966 0.53258845\n",
            "  0.53631285 0.58286778 0.58472998 0.4972067  0.48230912 0.48417132\n",
            "  0.4990689  0.50651769 0.52886406 0.54934823 0.57728119 0.59404097\n",
            "  0.63873371 0.65363128 0.6443203  0.60893855 0.60893855 0.60521415\n",
            "  0.59031657 0.55493482 0.58472998 0.62383613 0.63687151 0.65735568\n",
            "  0.62011173 0.63500931 0.59404097 0.5735568  0.54748603 0.54376164\n",
            "  0.56238361 0.51396648 0.47858473 0.48230912 0.4320298  0.40968343\n",
            "  0.40037244 0.43389199 0.39106145 0.37057728 0.41154562 0.39292365\n",
            "  0.3556797  0.34636872 0.45437616 0.54003724 0.54376164 0.46368715\n",
            "  0.37802607 0.36685289 0.44320298 0.37243948 0.30540037 0.33519553\n",
            "  0.30726257 0.25512104 0.27001862 0.26256983 0.34078212 0.36499069\n",
            "  0.43575419 0.48975791 0.54562384 0.4264432  0.31843575 0.29050279\n",
            "  0.29050279 0.26070764 0.24581006 0.27560521]]\n",
            "(1, 100)\n"
          ],
          "name": "stdout"
        }
      ]
    },
    {
      "metadata": {
        "id": "rStVSUla_5_K",
        "colab_type": "code",
        "colab": {
          "base_uri": "https://localhost:8080/",
          "height": 86
        },
        "outputId": "60dea4b0-e9ed-435e-e8b8-f5b084da6853"
      },
      "cell_type": "code",
      "source": [
        "import numpy as np\n",
        "X_train = (np.asarray(X_temp[0:300]) - min_temp)/(max_temp - min_temp)\n",
        "Y_train = (np.asarray(Y_temp[0:300]) - min_temp)/(max_temp - min_temp)\n",
        "X_test = (np.asarray(X_temp[300:]) - min_temp)/(max_temp - min_temp)\n",
        "Y_test = (np.asarray(Y_temp[300:]) - min_temp)/(max_temp - min_temp)\n",
        "\n",
        "print(X_train.shape)\n",
        "print(X_test.shape)\n",
        "print(Y_train.shape)\n",
        "print(Y_test.shape)"
      ],
      "execution_count": 6,
      "outputs": [
        {
          "output_type": "stream",
          "text": [
            "(300, 100)\n",
            "(97, 100)\n",
            "(300, 1)\n",
            "(97, 1)\n"
          ],
          "name": "stdout"
        }
      ]
    },
    {
      "metadata": {
        "id": "FuqkSNU24a_f",
        "colab_type": "code",
        "colab": {
          "base_uri": "https://localhost:8080/",
          "height": 6981
        },
        "outputId": "0436c63f-c558-4ebb-878b-4ed18419ef81"
      },
      "cell_type": "code",
      "source": [
        "network_history = model.fit(X_train, Y_train, batch_size=60, epochs=200, verbose=1, validation_split=0.2)"
      ],
      "execution_count": 7,
      "outputs": [
        {
          "output_type": "stream",
          "text": [
            "Train on 240 samples, validate on 60 samples\n",
            "Epoch 1/200\n",
            "240/240 [==============================] - 0s 500us/step - loss: 0.0291 - diff_true_pred: 0.1455 - val_loss: 0.0296 - val_diff_true_pred: 0.1483\n",
            "Epoch 2/200\n",
            "240/240 [==============================] - 0s 64us/step - loss: 0.0288 - diff_true_pred: 0.1446 - val_loss: 0.0292 - val_diff_true_pred: 0.1473\n",
            "Epoch 3/200\n",
            "240/240 [==============================] - 0s 62us/step - loss: 0.0285 - diff_true_pred: 0.1436 - val_loss: 0.0288 - val_diff_true_pred: 0.1464\n",
            "Epoch 4/200\n",
            "240/240 [==============================] - 0s 56us/step - loss: 0.0281 - diff_true_pred: 0.1425 - val_loss: 0.0285 - val_diff_true_pred: 0.1455\n",
            "Epoch 5/200\n",
            "240/240 [==============================] - 0s 72us/step - loss: 0.0278 - diff_true_pred: 0.1417 - val_loss: 0.0281 - val_diff_true_pred: 0.1447\n",
            "Epoch 6/200\n",
            "240/240 [==============================] - 0s 66us/step - loss: 0.0274 - diff_true_pred: 0.1409 - val_loss: 0.0278 - val_diff_true_pred: 0.1438\n",
            "Epoch 7/200\n",
            "240/240 [==============================] - 0s 55us/step - loss: 0.0271 - diff_true_pred: 0.1399 - val_loss: 0.0275 - val_diff_true_pred: 0.1429\n",
            "Epoch 8/200\n",
            "240/240 [==============================] - 0s 65us/step - loss: 0.0268 - diff_true_pred: 0.1391 - val_loss: 0.0272 - val_diff_true_pred: 0.1421\n",
            "Epoch 9/200\n",
            "240/240 [==============================] - 0s 66us/step - loss: 0.0265 - diff_true_pred: 0.1383 - val_loss: 0.0269 - val_diff_true_pred: 0.1412\n",
            "Epoch 10/200\n",
            "240/240 [==============================] - 0s 66us/step - loss: 0.0262 - diff_true_pred: 0.1374 - val_loss: 0.0266 - val_diff_true_pred: 0.1404\n",
            "Epoch 11/200\n",
            "240/240 [==============================] - 0s 59us/step - loss: 0.0260 - diff_true_pred: 0.1366 - val_loss: 0.0263 - val_diff_true_pred: 0.1396\n",
            "Epoch 12/200\n",
            "240/240 [==============================] - 0s 60us/step - loss: 0.0256 - diff_true_pred: 0.1358 - val_loss: 0.0260 - val_diff_true_pred: 0.1388\n",
            "Epoch 13/200\n",
            "240/240 [==============================] - 0s 69us/step - loss: 0.0254 - diff_true_pred: 0.1349 - val_loss: 0.0258 - val_diff_true_pred: 0.1380\n",
            "Epoch 14/200\n",
            "240/240 [==============================] - 0s 75us/step - loss: 0.0251 - diff_true_pred: 0.1342 - val_loss: 0.0255 - val_diff_true_pred: 0.1372\n",
            "Epoch 15/200\n",
            "240/240 [==============================] - 0s 71us/step - loss: 0.0248 - diff_true_pred: 0.1334 - val_loss: 0.0252 - val_diff_true_pred: 0.1364\n",
            "Epoch 16/200\n",
            "240/240 [==============================] - 0s 72us/step - loss: 0.0246 - diff_true_pred: 0.1327 - val_loss: 0.0250 - val_diff_true_pred: 0.1357\n",
            "Epoch 17/200\n",
            "240/240 [==============================] - 0s 84us/step - loss: 0.0243 - diff_true_pred: 0.1319 - val_loss: 0.0247 - val_diff_true_pred: 0.1350\n",
            "Epoch 18/200\n",
            "240/240 [==============================] - 0s 70us/step - loss: 0.0241 - diff_true_pred: 0.1313 - val_loss: 0.0245 - val_diff_true_pred: 0.1342\n",
            "Epoch 19/200\n",
            "240/240 [==============================] - 0s 67us/step - loss: 0.0239 - diff_true_pred: 0.1307 - val_loss: 0.0242 - val_diff_true_pred: 0.1335\n",
            "Epoch 20/200\n",
            "240/240 [==============================] - 0s 63us/step - loss: 0.0236 - diff_true_pred: 0.1298 - val_loss: 0.0240 - val_diff_true_pred: 0.1328\n",
            "Epoch 21/200\n",
            "240/240 [==============================] - 0s 83us/step - loss: 0.0234 - diff_true_pred: 0.1292 - val_loss: 0.0237 - val_diff_true_pred: 0.1320\n",
            "Epoch 22/200\n",
            "240/240 [==============================] - 0s 77us/step - loss: 0.0231 - diff_true_pred: 0.1284 - val_loss: 0.0235 - val_diff_true_pred: 0.1313\n",
            "Epoch 23/200\n",
            "240/240 [==============================] - 0s 69us/step - loss: 0.0229 - diff_true_pred: 0.1277 - val_loss: 0.0232 - val_diff_true_pred: 0.1306\n",
            "Epoch 24/200\n",
            "240/240 [==============================] - 0s 61us/step - loss: 0.0227 - diff_true_pred: 0.1271 - val_loss: 0.0229 - val_diff_true_pred: 0.1298\n",
            "Epoch 25/200\n",
            "240/240 [==============================] - 0s 60us/step - loss: 0.0225 - diff_true_pred: 0.1264 - val_loss: 0.0227 - val_diff_true_pred: 0.1291\n",
            "Epoch 26/200\n",
            "240/240 [==============================] - 0s 67us/step - loss: 0.0222 - diff_true_pred: 0.1257 - val_loss: 0.0225 - val_diff_true_pred: 0.1284\n",
            "Epoch 27/200\n",
            "240/240 [==============================] - 0s 79us/step - loss: 0.0220 - diff_true_pred: 0.1250 - val_loss: 0.0223 - val_diff_true_pred: 0.1277\n",
            "Epoch 28/200\n",
            "240/240 [==============================] - 0s 58us/step - loss: 0.0218 - diff_true_pred: 0.1245 - val_loss: 0.0220 - val_diff_true_pred: 0.1269\n",
            "Epoch 29/200\n",
            "240/240 [==============================] - 0s 63us/step - loss: 0.0216 - diff_true_pred: 0.1237 - val_loss: 0.0218 - val_diff_true_pred: 0.1262\n",
            "Epoch 30/200\n",
            "240/240 [==============================] - 0s 57us/step - loss: 0.0214 - diff_true_pred: 0.1231 - val_loss: 0.0216 - val_diff_true_pred: 0.1255\n",
            "Epoch 31/200\n",
            "240/240 [==============================] - 0s 71us/step - loss: 0.0212 - diff_true_pred: 0.1226 - val_loss: 0.0213 - val_diff_true_pred: 0.1247\n",
            "Epoch 32/200\n",
            "240/240 [==============================] - 0s 72us/step - loss: 0.0210 - diff_true_pred: 0.1218 - val_loss: 0.0211 - val_diff_true_pred: 0.1240\n",
            "Epoch 33/200\n",
            "240/240 [==============================] - 0s 62us/step - loss: 0.0208 - diff_true_pred: 0.1211 - val_loss: 0.0209 - val_diff_true_pred: 0.1233\n",
            "Epoch 34/200\n",
            "240/240 [==============================] - 0s 63us/step - loss: 0.0206 - diff_true_pred: 0.1205 - val_loss: 0.0207 - val_diff_true_pred: 0.1226\n",
            "Epoch 35/200\n",
            "240/240 [==============================] - 0s 73us/step - loss: 0.0204 - diff_true_pred: 0.1199 - val_loss: 0.0205 - val_diff_true_pred: 0.1219\n",
            "Epoch 36/200\n",
            "240/240 [==============================] - 0s 58us/step - loss: 0.0202 - diff_true_pred: 0.1193 - val_loss: 0.0203 - val_diff_true_pred: 0.1212\n",
            "Epoch 37/200\n",
            "240/240 [==============================] - 0s 52us/step - loss: 0.0200 - diff_true_pred: 0.1187 - val_loss: 0.0201 - val_diff_true_pred: 0.1205\n",
            "Epoch 38/200\n",
            "240/240 [==============================] - 0s 53us/step - loss: 0.0198 - diff_true_pred: 0.1180 - val_loss: 0.0199 - val_diff_true_pred: 0.1198\n",
            "Epoch 39/200\n",
            "240/240 [==============================] - 0s 80us/step - loss: 0.0196 - diff_true_pred: 0.1174 - val_loss: 0.0197 - val_diff_true_pred: 0.1191\n",
            "Epoch 40/200\n",
            "240/240 [==============================] - 0s 53us/step - loss: 0.0194 - diff_true_pred: 0.1169 - val_loss: 0.0195 - val_diff_true_pred: 0.1184\n",
            "Epoch 41/200\n",
            "240/240 [==============================] - 0s 50us/step - loss: 0.0192 - diff_true_pred: 0.1162 - val_loss: 0.0192 - val_diff_true_pred: 0.1178\n",
            "Epoch 42/200\n",
            "240/240 [==============================] - 0s 50us/step - loss: 0.0191 - diff_true_pred: 0.1156 - val_loss: 0.0191 - val_diff_true_pred: 0.1171\n",
            "Epoch 43/200\n",
            "240/240 [==============================] - 0s 55us/step - loss: 0.0188 - diff_true_pred: 0.1149 - val_loss: 0.0189 - val_diff_true_pred: 0.1164\n",
            "Epoch 44/200\n",
            "240/240 [==============================] - 0s 68us/step - loss: 0.0187 - diff_true_pred: 0.1143 - val_loss: 0.0187 - val_diff_true_pred: 0.1158\n",
            "Epoch 45/200\n",
            "240/240 [==============================] - 0s 63us/step - loss: 0.0185 - diff_true_pred: 0.1137 - val_loss: 0.0185 - val_diff_true_pred: 0.1151\n",
            "Epoch 46/200\n",
            "240/240 [==============================] - 0s 74us/step - loss: 0.0183 - diff_true_pred: 0.1131 - val_loss: 0.0183 - val_diff_true_pred: 0.1144\n",
            "Epoch 47/200\n",
            "240/240 [==============================] - 0s 84us/step - loss: 0.0181 - diff_true_pred: 0.1124 - val_loss: 0.0181 - val_diff_true_pred: 0.1138\n",
            "Epoch 48/200\n",
            "240/240 [==============================] - 0s 60us/step - loss: 0.0180 - diff_true_pred: 0.1119 - val_loss: 0.0179 - val_diff_true_pred: 0.1131\n",
            "Epoch 49/200\n",
            "240/240 [==============================] - 0s 63us/step - loss: 0.0178 - diff_true_pred: 0.1114 - val_loss: 0.0178 - val_diff_true_pred: 0.1125\n",
            "Epoch 50/200\n",
            "240/240 [==============================] - 0s 72us/step - loss: 0.0176 - diff_true_pred: 0.1106 - val_loss: 0.0176 - val_diff_true_pred: 0.1118\n",
            "Epoch 51/200\n",
            "240/240 [==============================] - 0s 58us/step - loss: 0.0174 - diff_true_pred: 0.1100 - val_loss: 0.0174 - val_diff_true_pred: 0.1112\n",
            "Epoch 52/200\n",
            "240/240 [==============================] - 0s 59us/step - loss: 0.0173 - diff_true_pred: 0.1095 - val_loss: 0.0172 - val_diff_true_pred: 0.1105\n",
            "Epoch 53/200\n",
            "240/240 [==============================] - 0s 54us/step - loss: 0.0171 - diff_true_pred: 0.1088 - val_loss: 0.0170 - val_diff_true_pred: 0.1099\n",
            "Epoch 54/200\n",
            "240/240 [==============================] - 0s 73us/step - loss: 0.0169 - diff_true_pred: 0.1082 - val_loss: 0.0168 - val_diff_true_pred: 0.1093\n",
            "Epoch 55/200\n",
            "240/240 [==============================] - 0s 63us/step - loss: 0.0167 - diff_true_pred: 0.1076 - val_loss: 0.0167 - val_diff_true_pred: 0.1086\n",
            "Epoch 56/200\n",
            "240/240 [==============================] - 0s 66us/step - loss: 0.0166 - diff_true_pred: 0.1070 - val_loss: 0.0165 - val_diff_true_pred: 0.1080\n",
            "Epoch 57/200\n",
            "240/240 [==============================] - 0s 61us/step - loss: 0.0164 - diff_true_pred: 0.1065 - val_loss: 0.0163 - val_diff_true_pred: 0.1074\n",
            "Epoch 58/200\n",
            "240/240 [==============================] - 0s 74us/step - loss: 0.0162 - diff_true_pred: 0.1058 - val_loss: 0.0162 - val_diff_true_pred: 0.1067\n",
            "Epoch 59/200\n",
            "240/240 [==============================] - 0s 69us/step - loss: 0.0161 - diff_true_pred: 0.1053 - val_loss: 0.0160 - val_diff_true_pred: 0.1061\n",
            "Epoch 60/200\n",
            "240/240 [==============================] - 0s 47us/step - loss: 0.0159 - diff_true_pred: 0.1046 - val_loss: 0.0158 - val_diff_true_pred: 0.1055\n",
            "Epoch 61/200\n",
            "240/240 [==============================] - 0s 54us/step - loss: 0.0157 - diff_true_pred: 0.1041 - val_loss: 0.0157 - val_diff_true_pred: 0.1048\n",
            "Epoch 62/200\n",
            "240/240 [==============================] - 0s 66us/step - loss: 0.0156 - diff_true_pred: 0.1035 - val_loss: 0.0155 - val_diff_true_pred: 0.1042\n",
            "Epoch 63/200\n",
            "240/240 [==============================] - 0s 59us/step - loss: 0.0154 - diff_true_pred: 0.1029 - val_loss: 0.0153 - val_diff_true_pred: 0.1036\n",
            "Epoch 64/200\n",
            "240/240 [==============================] - 0s 59us/step - loss: 0.0153 - diff_true_pred: 0.1023 - val_loss: 0.0151 - val_diff_true_pred: 0.1029\n",
            "Epoch 65/200\n",
            "240/240 [==============================] - 0s 94us/step - loss: 0.0151 - diff_true_pred: 0.1017 - val_loss: 0.0150 - val_diff_true_pred: 0.1023\n",
            "Epoch 66/200\n",
            "240/240 [==============================] - 0s 56us/step - loss: 0.0150 - diff_true_pred: 0.1013 - val_loss: 0.0148 - val_diff_true_pred: 0.1017\n",
            "Epoch 67/200\n",
            "240/240 [==============================] - 0s 62us/step - loss: 0.0148 - diff_true_pred: 0.1007 - val_loss: 0.0146 - val_diff_true_pred: 0.1011\n",
            "Epoch 68/200\n",
            "240/240 [==============================] - 0s 61us/step - loss: 0.0147 - diff_true_pred: 0.1002 - val_loss: 0.0145 - val_diff_true_pred: 0.1004\n",
            "Epoch 69/200\n",
            "240/240 [==============================] - 0s 59us/step - loss: 0.0145 - diff_true_pred: 0.0996 - val_loss: 0.0144 - val_diff_true_pred: 0.0998\n",
            "Epoch 70/200\n",
            "240/240 [==============================] - 0s 70us/step - loss: 0.0144 - diff_true_pred: 0.0991 - val_loss: 0.0142 - val_diff_true_pred: 0.0992\n",
            "Epoch 71/200\n",
            "240/240 [==============================] - 0s 63us/step - loss: 0.0142 - diff_true_pred: 0.0986 - val_loss: 0.0140 - val_diff_true_pred: 0.0985\n",
            "Epoch 72/200\n",
            "240/240 [==============================] - 0s 57us/step - loss: 0.0141 - diff_true_pred: 0.0981 - val_loss: 0.0139 - val_diff_true_pred: 0.0979\n",
            "Epoch 73/200\n",
            "240/240 [==============================] - 0s 77us/step - loss: 0.0140 - diff_true_pred: 0.0976 - val_loss: 0.0137 - val_diff_true_pred: 0.0973\n",
            "Epoch 74/200\n",
            "240/240 [==============================] - 0s 90us/step - loss: 0.0138 - diff_true_pred: 0.0971 - val_loss: 0.0136 - val_diff_true_pred: 0.0967\n",
            "Epoch 75/200\n",
            "240/240 [==============================] - 0s 52us/step - loss: 0.0137 - diff_true_pred: 0.0966 - val_loss: 0.0135 - val_diff_true_pred: 0.0961\n",
            "Epoch 76/200\n",
            "240/240 [==============================] - 0s 57us/step - loss: 0.0136 - diff_true_pred: 0.0961 - val_loss: 0.0133 - val_diff_true_pred: 0.0955\n",
            "Epoch 77/200\n",
            "240/240 [==============================] - 0s 68us/step - loss: 0.0135 - diff_true_pred: 0.0957 - val_loss: 0.0132 - val_diff_true_pred: 0.0949\n",
            "Epoch 78/200\n",
            "240/240 [==============================] - 0s 57us/step - loss: 0.0133 - diff_true_pred: 0.0951 - val_loss: 0.0130 - val_diff_true_pred: 0.0943\n",
            "Epoch 79/200\n",
            "240/240 [==============================] - 0s 60us/step - loss: 0.0132 - diff_true_pred: 0.0947 - val_loss: 0.0129 - val_diff_true_pred: 0.0938\n",
            "Epoch 80/200\n",
            "240/240 [==============================] - 0s 66us/step - loss: 0.0131 - diff_true_pred: 0.0942 - val_loss: 0.0128 - val_diff_true_pred: 0.0933\n",
            "Epoch 81/200\n",
            "240/240 [==============================] - 0s 69us/step - loss: 0.0130 - diff_true_pred: 0.0938 - val_loss: 0.0126 - val_diff_true_pred: 0.0927\n",
            "Epoch 82/200\n",
            "240/240 [==============================] - 0s 59us/step - loss: 0.0128 - diff_true_pred: 0.0933 - val_loss: 0.0125 - val_diff_true_pred: 0.0922\n",
            "Epoch 83/200\n",
            "240/240 [==============================] - 0s 61us/step - loss: 0.0127 - diff_true_pred: 0.0929 - val_loss: 0.0124 - val_diff_true_pred: 0.0917\n",
            "Epoch 84/200\n",
            "240/240 [==============================] - 0s 79us/step - loss: 0.0127 - diff_true_pred: 0.0925 - val_loss: 0.0123 - val_diff_true_pred: 0.0912\n",
            "Epoch 85/200\n",
            "240/240 [==============================] - 0s 66us/step - loss: 0.0125 - diff_true_pred: 0.0920 - val_loss: 0.0122 - val_diff_true_pred: 0.0908\n",
            "Epoch 86/200\n",
            "240/240 [==============================] - 0s 94us/step - loss: 0.0124 - diff_true_pred: 0.0916 - val_loss: 0.0120 - val_diff_true_pred: 0.0903\n",
            "Epoch 87/200\n",
            "240/240 [==============================] - 0s 52us/step - loss: 0.0123 - diff_true_pred: 0.0912 - val_loss: 0.0119 - val_diff_true_pred: 0.0898\n",
            "Epoch 88/200\n",
            "240/240 [==============================] - 0s 65us/step - loss: 0.0122 - diff_true_pred: 0.0908 - val_loss: 0.0118 - val_diff_true_pred: 0.0893\n",
            "Epoch 89/200\n",
            "240/240 [==============================] - 0s 62us/step - loss: 0.0121 - diff_true_pred: 0.0904 - val_loss: 0.0117 - val_diff_true_pred: 0.0889\n",
            "Epoch 90/200\n",
            "240/240 [==============================] - 0s 61us/step - loss: 0.0120 - diff_true_pred: 0.0901 - val_loss: 0.0116 - val_diff_true_pred: 0.0884\n",
            "Epoch 91/200\n",
            "240/240 [==============================] - 0s 78us/step - loss: 0.0120 - diff_true_pred: 0.0897 - val_loss: 0.0115 - val_diff_true_pred: 0.0879\n",
            "Epoch 92/200\n",
            "240/240 [==============================] - 0s 66us/step - loss: 0.0119 - diff_true_pred: 0.0894 - val_loss: 0.0114 - val_diff_true_pred: 0.0875\n",
            "Epoch 93/200\n",
            "240/240 [==============================] - 0s 53us/step - loss: 0.0118 - diff_true_pred: 0.0890 - val_loss: 0.0113 - val_diff_true_pred: 0.0870\n",
            "Epoch 94/200\n",
            "240/240 [==============================] - 0s 87us/step - loss: 0.0117 - diff_true_pred: 0.0886 - val_loss: 0.0112 - val_diff_true_pred: 0.0866\n",
            "Epoch 95/200\n",
            "240/240 [==============================] - 0s 102us/step - loss: 0.0116 - diff_true_pred: 0.0883 - val_loss: 0.0111 - val_diff_true_pred: 0.0861\n",
            "Epoch 96/200\n",
            "240/240 [==============================] - 0s 53us/step - loss: 0.0115 - diff_true_pred: 0.0879 - val_loss: 0.0110 - val_diff_true_pred: 0.0857\n",
            "Epoch 97/200\n",
            "240/240 [==============================] - 0s 64us/step - loss: 0.0114 - diff_true_pred: 0.0876 - val_loss: 0.0109 - val_diff_true_pred: 0.0854\n",
            "Epoch 98/200\n",
            "240/240 [==============================] - 0s 84us/step - loss: 0.0113 - diff_true_pred: 0.0873 - val_loss: 0.0108 - val_diff_true_pred: 0.0850\n",
            "Epoch 99/200\n",
            "240/240 [==============================] - 0s 65us/step - loss: 0.0113 - diff_true_pred: 0.0870 - val_loss: 0.0107 - val_diff_true_pred: 0.0846\n",
            "Epoch 100/200\n",
            "240/240 [==============================] - 0s 72us/step - loss: 0.0112 - diff_true_pred: 0.0867 - val_loss: 0.0107 - val_diff_true_pred: 0.0843\n",
            "Epoch 101/200\n",
            "240/240 [==============================] - 0s 80us/step - loss: 0.0111 - diff_true_pred: 0.0864 - val_loss: 0.0106 - val_diff_true_pred: 0.0839\n",
            "Epoch 102/200\n",
            "240/240 [==============================] - 0s 63us/step - loss: 0.0111 - diff_true_pred: 0.0861 - val_loss: 0.0105 - val_diff_true_pred: 0.0836\n",
            "Epoch 103/200\n",
            "240/240 [==============================] - 0s 61us/step - loss: 0.0110 - diff_true_pred: 0.0859 - val_loss: 0.0104 - val_diff_true_pred: 0.0832\n",
            "Epoch 104/200\n",
            "240/240 [==============================] - 0s 71us/step - loss: 0.0109 - diff_true_pred: 0.0855 - val_loss: 0.0103 - val_diff_true_pred: 0.0829\n",
            "Epoch 105/200\n",
            "240/240 [==============================] - 0s 68us/step - loss: 0.0108 - diff_true_pred: 0.0852 - val_loss: 0.0103 - val_diff_true_pred: 0.0826\n",
            "Epoch 106/200\n",
            "240/240 [==============================] - 0s 61us/step - loss: 0.0108 - diff_true_pred: 0.0850 - val_loss: 0.0102 - val_diff_true_pred: 0.0823\n",
            "Epoch 107/200\n",
            "240/240 [==============================] - 0s 78us/step - loss: 0.0107 - diff_true_pred: 0.0848 - val_loss: 0.0101 - val_diff_true_pred: 0.0820\n",
            "Epoch 108/200\n",
            "240/240 [==============================] - 0s 73us/step - loss: 0.0107 - diff_true_pred: 0.0844 - val_loss: 0.0101 - val_diff_true_pred: 0.0817\n",
            "Epoch 109/200\n",
            "240/240 [==============================] - 0s 61us/step - loss: 0.0106 - diff_true_pred: 0.0842 - val_loss: 0.0100 - val_diff_true_pred: 0.0813\n",
            "Epoch 110/200\n",
            "240/240 [==============================] - 0s 71us/step - loss: 0.0105 - diff_true_pred: 0.0840 - val_loss: 0.0099 - val_diff_true_pred: 0.0810\n",
            "Epoch 111/200\n",
            "240/240 [==============================] - 0s 95us/step - loss: 0.0105 - diff_true_pred: 0.0837 - val_loss: 0.0099 - val_diff_true_pred: 0.0808\n",
            "Epoch 112/200\n",
            "240/240 [==============================] - 0s 78us/step - loss: 0.0104 - diff_true_pred: 0.0835 - val_loss: 0.0098 - val_diff_true_pred: 0.0805\n",
            "Epoch 113/200\n",
            "240/240 [==============================] - 0s 69us/step - loss: 0.0104 - diff_true_pred: 0.0832 - val_loss: 0.0097 - val_diff_true_pred: 0.0802\n",
            "Epoch 114/200\n",
            "240/240 [==============================] - 0s 65us/step - loss: 0.0103 - diff_true_pred: 0.0830 - val_loss: 0.0097 - val_diff_true_pred: 0.0799\n",
            "Epoch 115/200\n",
            "240/240 [==============================] - 0s 78us/step - loss: 0.0103 - diff_true_pred: 0.0828 - val_loss: 0.0096 - val_diff_true_pred: 0.0797\n",
            "Epoch 116/200\n",
            "240/240 [==============================] - 0s 62us/step - loss: 0.0102 - diff_true_pred: 0.0825 - val_loss: 0.0096 - val_diff_true_pred: 0.0794\n",
            "Epoch 117/200\n",
            "240/240 [==============================] - 0s 69us/step - loss: 0.0102 - diff_true_pred: 0.0823 - val_loss: 0.0095 - val_diff_true_pred: 0.0792\n",
            "Epoch 118/200\n",
            "240/240 [==============================] - 0s 74us/step - loss: 0.0101 - diff_true_pred: 0.0822 - val_loss: 0.0095 - val_diff_true_pred: 0.0790\n",
            "Epoch 119/200\n",
            "240/240 [==============================] - 0s 70us/step - loss: 0.0101 - diff_true_pred: 0.0819 - val_loss: 0.0094 - val_diff_true_pred: 0.0787\n",
            "Epoch 120/200\n",
            "240/240 [==============================] - 0s 89us/step - loss: 0.0100 - diff_true_pred: 0.0817 - val_loss: 0.0094 - val_diff_true_pred: 0.0785\n",
            "Epoch 121/200\n",
            "240/240 [==============================] - 0s 59us/step - loss: 0.0100 - diff_true_pred: 0.0814 - val_loss: 0.0093 - val_diff_true_pred: 0.0783\n",
            "Epoch 122/200\n",
            "240/240 [==============================] - 0s 68us/step - loss: 0.0099 - diff_true_pred: 0.0813 - val_loss: 0.0092 - val_diff_true_pred: 0.0781\n",
            "Epoch 123/200\n",
            "240/240 [==============================] - 0s 58us/step - loss: 0.0099 - diff_true_pred: 0.0811 - val_loss: 0.0092 - val_diff_true_pred: 0.0778\n",
            "Epoch 124/200\n",
            "240/240 [==============================] - 0s 67us/step - loss: 0.0098 - diff_true_pred: 0.0809 - val_loss: 0.0091 - val_diff_true_pred: 0.0776\n",
            "Epoch 125/200\n",
            "240/240 [==============================] - 0s 64us/step - loss: 0.0098 - diff_true_pred: 0.0807 - val_loss: 0.0091 - val_diff_true_pred: 0.0774\n",
            "Epoch 126/200\n",
            "240/240 [==============================] - 0s 62us/step - loss: 0.0097 - diff_true_pred: 0.0805 - val_loss: 0.0091 - val_diff_true_pred: 0.0772\n",
            "Epoch 127/200\n",
            "240/240 [==============================] - 0s 88us/step - loss: 0.0097 - diff_true_pred: 0.0803 - val_loss: 0.0090 - val_diff_true_pred: 0.0770\n",
            "Epoch 128/200\n",
            "240/240 [==============================] - 0s 53us/step - loss: 0.0097 - diff_true_pred: 0.0801 - val_loss: 0.0090 - val_diff_true_pred: 0.0768\n",
            "Epoch 129/200\n",
            "240/240 [==============================] - 0s 64us/step - loss: 0.0096 - diff_true_pred: 0.0800 - val_loss: 0.0089 - val_diff_true_pred: 0.0766\n",
            "Epoch 130/200\n",
            "240/240 [==============================] - 0s 67us/step - loss: 0.0096 - diff_true_pred: 0.0797 - val_loss: 0.0089 - val_diff_true_pred: 0.0765\n",
            "Epoch 131/200\n",
            "240/240 [==============================] - 0s 75us/step - loss: 0.0095 - diff_true_pred: 0.0795 - val_loss: 0.0088 - val_diff_true_pred: 0.0763\n",
            "Epoch 132/200\n",
            "240/240 [==============================] - 0s 68us/step - loss: 0.0095 - diff_true_pred: 0.0794 - val_loss: 0.0088 - val_diff_true_pred: 0.0761\n",
            "Epoch 133/200\n",
            "240/240 [==============================] - 0s 74us/step - loss: 0.0094 - diff_true_pred: 0.0793 - val_loss: 0.0088 - val_diff_true_pred: 0.0759\n",
            "Epoch 134/200\n",
            "240/240 [==============================] - 0s 77us/step - loss: 0.0094 - diff_true_pred: 0.0791 - val_loss: 0.0087 - val_diff_true_pred: 0.0758\n",
            "Epoch 135/200\n",
            "240/240 [==============================] - 0s 80us/step - loss: 0.0094 - diff_true_pred: 0.0789 - val_loss: 0.0087 - val_diff_true_pred: 0.0756\n",
            "Epoch 136/200\n",
            "240/240 [==============================] - 0s 96us/step - loss: 0.0093 - diff_true_pred: 0.0788 - val_loss: 0.0087 - val_diff_true_pred: 0.0755\n",
            "Epoch 137/200\n",
            "240/240 [==============================] - 0s 70us/step - loss: 0.0093 - diff_true_pred: 0.0785 - val_loss: 0.0086 - val_diff_true_pred: 0.0753\n",
            "Epoch 138/200\n",
            "240/240 [==============================] - 0s 75us/step - loss: 0.0092 - diff_true_pred: 0.0783 - val_loss: 0.0086 - val_diff_true_pred: 0.0751\n",
            "Epoch 139/200\n",
            "240/240 [==============================] - 0s 73us/step - loss: 0.0092 - diff_true_pred: 0.0782 - val_loss: 0.0086 - val_diff_true_pred: 0.0750\n",
            "Epoch 140/200\n",
            "240/240 [==============================] - 0s 69us/step - loss: 0.0092 - diff_true_pred: 0.0779 - val_loss: 0.0085 - val_diff_true_pred: 0.0748\n",
            "Epoch 141/200\n",
            "240/240 [==============================] - 0s 71us/step - loss: 0.0091 - diff_true_pred: 0.0778 - val_loss: 0.0085 - val_diff_true_pred: 0.0746\n",
            "Epoch 142/200\n",
            "240/240 [==============================] - 0s 67us/step - loss: 0.0091 - diff_true_pred: 0.0777 - val_loss: 0.0084 - val_diff_true_pred: 0.0745\n",
            "Epoch 143/200\n",
            "240/240 [==============================] - 0s 68us/step - loss: 0.0090 - diff_true_pred: 0.0775 - val_loss: 0.0084 - val_diff_true_pred: 0.0743\n",
            "Epoch 144/200\n",
            "240/240 [==============================] - 0s 76us/step - loss: 0.0090 - diff_true_pred: 0.0773 - val_loss: 0.0084 - val_diff_true_pred: 0.0742\n",
            "Epoch 145/200\n",
            "240/240 [==============================] - 0s 74us/step - loss: 0.0090 - diff_true_pred: 0.0773 - val_loss: 0.0083 - val_diff_true_pred: 0.0740\n",
            "Epoch 146/200\n",
            "240/240 [==============================] - 0s 72us/step - loss: 0.0090 - diff_true_pred: 0.0771 - val_loss: 0.0083 - val_diff_true_pred: 0.0739\n",
            "Epoch 147/200\n",
            "240/240 [==============================] - 0s 62us/step - loss: 0.0089 - diff_true_pred: 0.0769 - val_loss: 0.0083 - val_diff_true_pred: 0.0737\n",
            "Epoch 148/200\n",
            "240/240 [==============================] - 0s 73us/step - loss: 0.0089 - diff_true_pred: 0.0768 - val_loss: 0.0083 - val_diff_true_pred: 0.0736\n",
            "Epoch 149/200\n",
            "240/240 [==============================] - 0s 75us/step - loss: 0.0088 - diff_true_pred: 0.0766 - val_loss: 0.0082 - val_diff_true_pred: 0.0734\n",
            "Epoch 150/200\n",
            "240/240 [==============================] - 0s 80us/step - loss: 0.0088 - diff_true_pred: 0.0764 - val_loss: 0.0082 - val_diff_true_pred: 0.0733\n",
            "Epoch 151/200\n",
            "240/240 [==============================] - 0s 85us/step - loss: 0.0088 - diff_true_pred: 0.0764 - val_loss: 0.0082 - val_diff_true_pred: 0.0731\n",
            "Epoch 152/200\n",
            "240/240 [==============================] - 0s 67us/step - loss: 0.0087 - diff_true_pred: 0.0761 - val_loss: 0.0081 - val_diff_true_pred: 0.0730\n",
            "Epoch 153/200\n",
            "240/240 [==============================] - 0s 78us/step - loss: 0.0087 - diff_true_pred: 0.0760 - val_loss: 0.0081 - val_diff_true_pred: 0.0728\n",
            "Epoch 154/200\n",
            "240/240 [==============================] - 0s 73us/step - loss: 0.0087 - diff_true_pred: 0.0759 - val_loss: 0.0081 - val_diff_true_pred: 0.0727\n",
            "Epoch 155/200\n",
            "240/240 [==============================] - 0s 72us/step - loss: 0.0086 - diff_true_pred: 0.0757 - val_loss: 0.0080 - val_diff_true_pred: 0.0725\n",
            "Epoch 156/200\n",
            "240/240 [==============================] - 0s 83us/step - loss: 0.0086 - diff_true_pred: 0.0756 - val_loss: 0.0080 - val_diff_true_pred: 0.0724\n",
            "Epoch 157/200\n",
            "240/240 [==============================] - 0s 67us/step - loss: 0.0086 - diff_true_pred: 0.0754 - val_loss: 0.0080 - val_diff_true_pred: 0.0723\n",
            "Epoch 158/200\n",
            "240/240 [==============================] - 0s 64us/step - loss: 0.0086 - diff_true_pred: 0.0753 - val_loss: 0.0079 - val_diff_true_pred: 0.0721\n",
            "Epoch 159/200\n",
            "240/240 [==============================] - 0s 63us/step - loss: 0.0085 - diff_true_pred: 0.0752 - val_loss: 0.0079 - val_diff_true_pred: 0.0720\n",
            "Epoch 160/200\n",
            "240/240 [==============================] - 0s 76us/step - loss: 0.0085 - diff_true_pred: 0.0750 - val_loss: 0.0079 - val_diff_true_pred: 0.0718\n",
            "Epoch 161/200\n",
            "240/240 [==============================] - 0s 73us/step - loss: 0.0085 - diff_true_pred: 0.0749 - val_loss: 0.0079 - val_diff_true_pred: 0.0717\n",
            "Epoch 162/200\n",
            "240/240 [==============================] - 0s 73us/step - loss: 0.0084 - diff_true_pred: 0.0747 - val_loss: 0.0078 - val_diff_true_pred: 0.0716\n",
            "Epoch 163/200\n",
            "240/240 [==============================] - 0s 59us/step - loss: 0.0084 - diff_true_pred: 0.0746 - val_loss: 0.0078 - val_diff_true_pred: 0.0715\n",
            "Epoch 164/200\n",
            "240/240 [==============================] - 0s 64us/step - loss: 0.0084 - diff_true_pred: 0.0744 - val_loss: 0.0078 - val_diff_true_pred: 0.0713\n",
            "Epoch 165/200\n",
            "240/240 [==============================] - 0s 70us/step - loss: 0.0084 - diff_true_pred: 0.0744 - val_loss: 0.0078 - val_diff_true_pred: 0.0712\n",
            "Epoch 166/200\n",
            "240/240 [==============================] - 0s 72us/step - loss: 0.0083 - diff_true_pred: 0.0742 - val_loss: 0.0077 - val_diff_true_pred: 0.0710\n",
            "Epoch 167/200\n",
            "240/240 [==============================] - 0s 74us/step - loss: 0.0083 - diff_true_pred: 0.0741 - val_loss: 0.0077 - val_diff_true_pred: 0.0709\n",
            "Epoch 168/200\n",
            "240/240 [==============================] - 0s 77us/step - loss: 0.0082 - diff_true_pred: 0.0740 - val_loss: 0.0077 - val_diff_true_pred: 0.0708\n",
            "Epoch 169/200\n",
            "240/240 [==============================] - 0s 78us/step - loss: 0.0082 - diff_true_pred: 0.0738 - val_loss: 0.0077 - val_diff_true_pred: 0.0707\n",
            "Epoch 170/200\n",
            "240/240 [==============================] - 0s 74us/step - loss: 0.0082 - diff_true_pred: 0.0737 - val_loss: 0.0076 - val_diff_true_pred: 0.0706\n",
            "Epoch 171/200\n",
            "240/240 [==============================] - 0s 70us/step - loss: 0.0082 - diff_true_pred: 0.0736 - val_loss: 0.0076 - val_diff_true_pred: 0.0705\n",
            "Epoch 172/200\n",
            "240/240 [==============================] - 0s 70us/step - loss: 0.0081 - diff_true_pred: 0.0735 - val_loss: 0.0076 - val_diff_true_pred: 0.0703\n",
            "Epoch 173/200\n",
            "240/240 [==============================] - 0s 59us/step - loss: 0.0081 - diff_true_pred: 0.0733 - val_loss: 0.0076 - val_diff_true_pred: 0.0702\n",
            "Epoch 174/200\n",
            "240/240 [==============================] - 0s 64us/step - loss: 0.0081 - diff_true_pred: 0.0732 - val_loss: 0.0075 - val_diff_true_pred: 0.0701\n",
            "Epoch 175/200\n",
            "240/240 [==============================] - 0s 54us/step - loss: 0.0081 - diff_true_pred: 0.0731 - val_loss: 0.0075 - val_diff_true_pred: 0.0700\n",
            "Epoch 176/200\n",
            "240/240 [==============================] - 0s 56us/step - loss: 0.0080 - diff_true_pred: 0.0729 - val_loss: 0.0075 - val_diff_true_pred: 0.0698\n",
            "Epoch 177/200\n",
            "240/240 [==============================] - 0s 54us/step - loss: 0.0080 - diff_true_pred: 0.0728 - val_loss: 0.0075 - val_diff_true_pred: 0.0697\n",
            "Epoch 178/200\n",
            "240/240 [==============================] - 0s 58us/step - loss: 0.0080 - diff_true_pred: 0.0728 - val_loss: 0.0074 - val_diff_true_pred: 0.0696\n",
            "Epoch 179/200\n",
            "240/240 [==============================] - 0s 57us/step - loss: 0.0080 - diff_true_pred: 0.0726 - val_loss: 0.0074 - val_diff_true_pred: 0.0695\n",
            "Epoch 180/200\n",
            "240/240 [==============================] - 0s 60us/step - loss: 0.0079 - diff_true_pred: 0.0725 - val_loss: 0.0074 - val_diff_true_pred: 0.0694\n",
            "Epoch 181/200\n",
            "240/240 [==============================] - 0s 69us/step - loss: 0.0079 - diff_true_pred: 0.0724 - val_loss: 0.0074 - val_diff_true_pred: 0.0693\n",
            "Epoch 182/200\n",
            "240/240 [==============================] - 0s 54us/step - loss: 0.0079 - diff_true_pred: 0.0722 - val_loss: 0.0074 - val_diff_true_pred: 0.0692\n",
            "Epoch 183/200\n",
            "240/240 [==============================] - 0s 56us/step - loss: 0.0079 - diff_true_pred: 0.0722 - val_loss: 0.0073 - val_diff_true_pred: 0.0690\n",
            "Epoch 184/200\n",
            "240/240 [==============================] - 0s 75us/step - loss: 0.0078 - diff_true_pred: 0.0721 - val_loss: 0.0073 - val_diff_true_pred: 0.0690\n",
            "Epoch 185/200\n",
            "240/240 [==============================] - 0s 73us/step - loss: 0.0078 - diff_true_pred: 0.0720 - val_loss: 0.0073 - val_diff_true_pred: 0.0689\n",
            "Epoch 186/200\n",
            "240/240 [==============================] - 0s 98us/step - loss: 0.0078 - diff_true_pred: 0.0719 - val_loss: 0.0073 - val_diff_true_pred: 0.0688\n",
            "Epoch 187/200\n",
            "240/240 [==============================] - 0s 68us/step - loss: 0.0078 - diff_true_pred: 0.0717 - val_loss: 0.0073 - val_diff_true_pred: 0.0687\n",
            "Epoch 188/200\n",
            "240/240 [==============================] - 0s 79us/step - loss: 0.0077 - diff_true_pred: 0.0716 - val_loss: 0.0072 - val_diff_true_pred: 0.0686\n",
            "Epoch 189/200\n",
            "240/240 [==============================] - 0s 65us/step - loss: 0.0077 - diff_true_pred: 0.0715 - val_loss: 0.0072 - val_diff_true_pred: 0.0685\n",
            "Epoch 190/200\n",
            "240/240 [==============================] - 0s 65us/step - loss: 0.0077 - diff_true_pred: 0.0714 - val_loss: 0.0072 - val_diff_true_pred: 0.0684\n",
            "Epoch 191/200\n",
            "240/240 [==============================] - 0s 59us/step - loss: 0.0077 - diff_true_pred: 0.0713 - val_loss: 0.0072 - val_diff_true_pred: 0.0683\n",
            "Epoch 192/200\n",
            "240/240 [==============================] - 0s 76us/step - loss: 0.0077 - diff_true_pred: 0.0711 - val_loss: 0.0072 - val_diff_true_pred: 0.0682\n",
            "Epoch 193/200\n",
            "240/240 [==============================] - 0s 79us/step - loss: 0.0076 - diff_true_pred: 0.0711 - val_loss: 0.0071 - val_diff_true_pred: 0.0681\n",
            "Epoch 194/200\n",
            "240/240 [==============================] - 0s 63us/step - loss: 0.0076 - diff_true_pred: 0.0710 - val_loss: 0.0071 - val_diff_true_pred: 0.0680\n",
            "Epoch 195/200\n",
            "240/240 [==============================] - 0s 75us/step - loss: 0.0076 - diff_true_pred: 0.0709 - val_loss: 0.0071 - val_diff_true_pred: 0.0679\n",
            "Epoch 196/200\n",
            "240/240 [==============================] - 0s 67us/step - loss: 0.0076 - diff_true_pred: 0.0708 - val_loss: 0.0071 - val_diff_true_pred: 0.0678\n",
            "Epoch 197/200\n",
            "240/240 [==============================] - 0s 70us/step - loss: 0.0076 - diff_true_pred: 0.0707 - val_loss: 0.0071 - val_diff_true_pred: 0.0677\n",
            "Epoch 198/200\n",
            "240/240 [==============================] - 0s 67us/step - loss: 0.0075 - diff_true_pred: 0.0707 - val_loss: 0.0071 - val_diff_true_pred: 0.0676\n",
            "Epoch 199/200\n",
            "240/240 [==============================] - 0s 59us/step - loss: 0.0075 - diff_true_pred: 0.0705 - val_loss: 0.0070 - val_diff_true_pred: 0.0676\n",
            "Epoch 200/200\n",
            "240/240 [==============================] - 0s 50us/step - loss: 0.0075 - diff_true_pred: 0.0704 - val_loss: 0.0070 - val_diff_true_pred: 0.0675\n"
          ],
          "name": "stdout"
        }
      ]
    },
    {
      "metadata": {
        "id": "e_KYUo1B4f8d",
        "colab_type": "code",
        "colab": {}
      },
      "cell_type": "code",
      "source": [
        "def plot_history(network_history):\n",
        "\n",
        "  plt.figure()\n",
        "\n",
        "  plt.xlabel('Epochs')\n",
        "\n",
        "  plt.ylabel('Loss')\n",
        "  plt.plot(network_history.history['loss'])\n",
        "  plt.plot(network_history.history['val_loss'])\n",
        "  plt.legend(['Training', 'Validation'])\n",
        "  plt.figure()\n",
        "  plt.xlabel('Epochs')\n",
        "  plt.ylabel('Accuracy')\n",
        "  plt.plot(network_history.history['diff_true_pred'])\n",
        "  plt.plot(network_history.history['val_diff_true_pred'])\n",
        "  plt.legend(['Training', 'Validation'])\n",
        "  plt.show()"
      ],
      "execution_count": 0,
      "outputs": []
    },
    {
      "metadata": {
        "id": "Bj2sXza74pj-",
        "colab_type": "code",
        "colab": {
          "base_uri": "https://localhost:8080/",
          "height": 541
        },
        "outputId": "e067c4ff-ef41-4b23-c1e9-79a6af4e7c3b"
      },
      "cell_type": "code",
      "source": [
        "plot_history(network_history)"
      ],
      "execution_count": 9,
      "outputs": [
        {
          "output_type": "display_data",
          "data": {
            "image/png": "[encoded data removed]",
            "text/plain": [
              "<matplotlib.figure.Figure at 0x7fc1c7e3c850>"
            ]
          },
          "metadata": {
            "tags": []
          }
        },
        {
          "output_type": "display_data",
          "data": {
            "image/png": "[encoded data removed]",
            "text/plain": [
              "<matplotlib.figure.Figure at 0x7fc1c510a690>"
            ]
          },
          "metadata": {
            "tags": []
          }
        }
      ]
    },
    {
      "metadata": {
        "id": "9aHeacqe4t_s",
        "colab_type": "code",
        "colab": {
          "base_uri": "https://localhost:8080/",
          "height": 34
        },
        "outputId": "63e3cf4b-4e2c-45fd-e714-7e1c7d3cfba0"
      },
      "cell_type": "code",
      "source": [
        "preds = model.predict(X_test)\n",
        "print(preds.shape)"
      ],
      "execution_count": 12,
      "outputs": [
        {
          "output_type": "stream",
          "text": [
            "(97, 1)\n"
          ],
          "name": "stdout"
        }
      ]
    },
    {
      "metadata": {
        "id": "3pnVourT4xlq",
        "colab_type": "code",
        "colab": {
          "base_uri": "https://localhost:8080/",
          "height": 1702
        },
        "outputId": "05104ed9-8f6e-4ca7-e7a4-a7172745a5bc"
      },
      "cell_type": "code",
      "source": [
        "for t in [ (preds[i][0]*(max_temp-min_temp)+min_temp, Y_test[i][0]*(max_temp-min_temp)+min_temp,(preds[i][0] - Y_test[i][0] )*(max_temp-min_temp) ) for i in range(97) ]:\n",
        "  print(t)"
      ],
      "execution_count": 13,
      "outputs": [
        {
          "output_type": "stream",
          "text": [
            "(3.668496239185334, 11.199999999999996, -7.5315037608146636)\n",
            "(18.75917344689369, 15.399999999999999, 3.3591734468936942)\n",
            "(16.87085711956024, 11.800000000000004, 5.07085711956024)\n",
            "(1.4835678100585952, 3.5, -2.016432189941408)\n",
            "(7.784279221296309, 9.399999999999999, -1.6157207787036878)\n",
            "(20.10802249312401, 25.300000000000004, -5.191977506875994)\n",
            "(4.461137980222702, 5.399999999999999, -0.9388620197772974)\n",
            "(-3.4031813025474555, 0.10000000000000142, -3.503181302547457)\n",
            "(18.802799934148787, 16.9, 1.9027999341487893)\n",
            "(15.517542999982837, 15.5, 0.017542999982833186)\n",
            "(2.503332948684694, 8.3, -5.7966670513153105)\n",
            "(0.594294840097426, 8.599999999999998, -8.005705159902572)\n",
            "(23.35347465872765, 25.1, -1.7465253412723567)\n",
            "(12.415555721521379, 4.5, 7.915555721521377)\n",
            "(1.658208191394806, 6.600000000000001, -4.9417918086051955)\n",
            "(12.862930464744565, 18.800000000000004, -5.937069535255438)\n",
            "(17.879480379819867, 18.0, -0.12051962018013103)\n",
            "(4.145884597301482, 3.5, 0.6458845973014817)\n",
            "(5.487707954645156, 12.100000000000001, -6.612292045354842)\n",
            "(18.803113609552383, 22.6, -3.796886390447619)\n",
            "(11.40009881854057, 10.7, 0.7000988185405734)\n",
            "(4.950778883695602, -3.6999999999999993, 8.650778883695603)\n",
            "(11.8445704638958, 11.099999999999998, 0.7445704638957984)\n",
            "(23.464627778530122, 24.6, -1.1353722214698792)\n",
            "(8.756807404756547, 3.8999999999999986, 4.856807404756548)\n",
            "(0.01159796714782857, 5.100000000000001, -5.0884020328521755)\n",
            "(14.142518061399457, 14.899999999999999, -0.7574819386005356)\n",
            "(20.272980546951295, 17.0, 3.2729805469512923)\n",
            "(4.120761758089067, -0.3999999999999986, 4.520761758089063)\n",
            "(5.378904199600221, 10.3, -4.9210958003997805)\n",
            "(19.51787742972374, 19.199999999999996, 0.31787742972374583)\n",
            "(16.287094390392305, 7.399999999999999, 8.887094390392305)\n",
            "(-1.7341560900211341, -3.5, 1.7658439099788668)\n",
            "(12.14182912111282, 19.5, -7.358170878887173)\n",
            "(20.694336235523224, 21.4, -0.7056637644767736)\n",
            "(4.560819542407991, -2.1999999999999993, 6.760819542407988)\n",
            "(6.028269898891448, 11.399999999999995, -5.371730101108548)\n",
            "(13.625814652442934, 24.0, -10.374185347557068)\n",
            "(23.732775437831883, 19.0, 4.732775437831879)\n",
            "(0.744343709945678, -0.6000000000000014, 1.344343709945679)\n",
            "(9.237799829244615, 12.100000000000001, -2.862200170755385)\n",
            "(23.29677942991257, 25.6, -2.303220570087432)\n",
            "(6.573536974191665, 2.8000000000000007, 3.773536974191664)\n",
            "(0.1483348369598403, -1.5, 1.6483348369598383)\n",
            "(14.578683710098268, 17.699999999999996, -3.121316289901726)\n",
            "(18.87736505866051, 19.699999999999996, -0.8226349413394891)\n",
            "(9.109407365322113, 6.199999999999999, 2.9094073653221146)\n",
            "(3.4634677529335036, 5.0, -1.5365322470664977)\n",
            "(19.837096565961836, 24.800000000000004, -4.962903434038168)\n",
            "(15.801140773296353, 10.3, 5.501140773296356)\n",
            "(3.4548896908760085, 4.899999999999999, -1.445110309123993)\n",
            "(15.795433801412585, 14.399999999999999, 1.3954338014125836)\n",
            "(24.59520675539971, 25.1, -0.5047932446002985)\n",
            "(7.977423250675201, -1.5, 9.477423250675201)\n",
            "(-1.1150504648685455, 10.7, -11.815050464868547)\n",
            "(20.5076705634594, 23.300000000000004, -2.792329436540608)\n",
            "(18.10999339222908, 20.6, -2.490006607770918)\n",
            "(3.564512842893599, 1.8000000000000007, 1.7645128428936003)\n",
            "(9.342599421739578, 5.899999999999999, 3.4425994217395797)\n",
            "(21.900478976964955, 19.0, 2.900478976964951)\n",
            "(16.985774344205858, 10.600000000000001, 6.385774344205854)\n",
            "(-2.039064586162567, 9.0, -11.039064586162567)\n",
            "(18.51646550297737, 20.699999999999996, -2.1835344970226243)\n",
            "(22.863910573720936, 25.4, -2.536089426279067)\n",
            "(7.254215800762175, 0.0, 7.254215800762178)\n",
            "(2.9030226290225976, 10.399999999999999, -7.496977370977399)\n",
            "(19.643027514219284, 21.6, -1.9569724857807191)\n",
            "(18.515466862916945, 12.399999999999999, 6.1154668629169455)\n",
            "(-5.2159402668476105, -2.8000000000000007, -2.4159402668476098)\n",
            "(10.852623212337495, 14.0, -3.1473767876625054)\n",
            "(22.733530431985855, 27.699999999999996, -4.966469568014139)\n",
            "(3.297552669048308, 1.6000000000000014, 1.697552669048309)\n",
            "(-2.1903361499309533, -0.5, -1.6903361499309537)\n",
            "(15.432076054811475, 16.5, -1.067923945188522)\n",
            "(18.171003258228303, 15.399999999999999, 2.7710032582283044)\n",
            "(-1.3623163044452689, -1.1999999999999993, -0.16231630444526715)\n",
            "(5.358832174539565, 6.899999999999999, -1.541167825460432)\n",
            "(19.29123414754868, 18.6, 0.6912341475486752)\n",
            "(9.096133774518968, 8.2, 0.8961337745189673)\n",
            "(-1.534252035617829, -1.1999999999999993, -0.3342520356178288)\n",
            "(12.199903881549837, 15.300000000000004, -3.100096118450166)\n",
            "(24.861085069179538, 25.4, -0.5389149308204643)\n",
            "(11.022177571058272, 10.2, 0.822177571058276)\n",
            "(9.412741082906724, 8.100000000000001, 1.3127410829067205)\n",
            "(22.144073534011845, 24.800000000000004, -2.655926465988165)\n",
            "(18.69253342747688, 16.5, 2.1925334274768833)\n",
            "(2.7640900313854218, -0.3999999999999986, 3.1640900313854194)\n",
            "(6.956188958883285, 9.5, -2.5438110411167156)\n",
            "(20.972691148519516, 23.9, -2.927308851480482)\n",
            "(17.08130770921707, 13.100000000000001, 3.9813077092170683)\n",
            "(0.8225737154483781, -1.3000000000000007, 2.1225737154483793)\n",
            "(13.902162683010104, 22.5, -8.597837316989898)\n",
            "(23.709425824880604, 25.0, -1.2905741751193998)\n",
            "(8.796993064880372, 0.1999999999999993, 8.596993064880373)\n",
            "(5.719616502523422, 12.300000000000004, -6.580383497476582)\n",
            "(24.366108483076097, 24.800000000000004, -0.4338915169239102)\n",
            "(11.96249321103096, 10.3, 1.66249321103096)\n"
          ],
          "name": "stdout"
        }
      ]
    },
    {
      "metadata": {
        "id": "3be6hTERg3_x",
        "colab_type": "code",
        "colab": {
          "base_uri": "https://localhost:8080/",
          "height": 52
        },
        "outputId": "768d178b-a657-488e-9c51-049c5c03e223"
      },
      "cell_type": "code",
      "source": [
        "preds = model.predict(X_pred)\n",
        "print(preds,max_temp,min_temp)                                    # a következő napi predikált előrejelzés\n",
        "print('the next day prediction:', preds*(max_temp-min_temp)+min_temp) # a következő napi predikált előrejelzés már renormálva\n",
        "\n",
        "#preds_renorm = preds*(max_temp-min_temp)+min_temp"
      ],
      "execution_count": 17,
      "outputs": [
        {
          "output_type": "stream",
          "text": [
            "(array([[0.35450697]], dtype=float32), 33.1, -20.6)\n",
            "('the next day prediction:', array([[-1.5629749]], dtype=float32))\n"
          ],
          "name": "stdout"
        }
      ]
    },
    {
      "metadata": {
        "id": "dDBtyMQC-znw",
        "colab_type": "code",
        "colab": {
          "base_uri": "https://localhost:8080/",
          "height": 139
        },
        "outputId": "050ee0fc-f00a-4320-a870-0c257ffe1267"
      },
      "cell_type": "code",
      "source": [
        "for week in range (1,7):\n",
        "    \n",
        "    preds = model.predict(X_pred)\n",
        "    X_pred_new = np.concatenate((X_pred, preds), axis=1)\n",
        "    X_pred = np.delete(X_pred_new, 0, 1)\n",
        "    \n",
        "    print('the next day prediction', week, preds)\n",
        "\n",
        "print('the next week prediction:', preds*(max_temp-min_temp)+min_temp) # a következő napi predikált előrejelzés már renormálva\n"
      ],
      "execution_count": 38,
      "outputs": [
        {
          "output_type": "stream",
          "text": [
            "('the next day prediction', 1, array([[0.5962648]], dtype=float32))\n",
            "('the next day prediction', 2, array([[0.5668092]], dtype=float32))\n",
            "('the next day prediction', 3, array([[0.565301]], dtype=float32))\n",
            "('the next day prediction', 4, array([[0.5330801]], dtype=float32))\n",
            "('the next day prediction', 5, array([[0.4905122]], dtype=float32))\n",
            "('the next day prediction', 6, array([[0.44766837]], dtype=float32))\n",
            "('the next week prediction:', array([[3.4397907]], dtype=float32))\n"
          ],
          "name": "stdout"
        }
      ]
    },
    {
      "metadata": {
        "id": "r9zOv7aUCai7",
        "colab_type": "code",
        "colab": {}
      },
      "cell_type": "code",
      "source": [
        ""
      ],
      "execution_count": 0,
      "outputs": []
    }
  ]
}